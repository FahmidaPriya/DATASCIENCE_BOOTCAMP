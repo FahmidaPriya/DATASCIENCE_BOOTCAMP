{
 "cells": [
  {
   "cell_type": "code",
   "execution_count": 3,
   "id": "900e32b6",
   "metadata": {},
   "outputs": [
    {
     "name": "stdout",
     "output_type": "stream",
     "text": [
      "Requirement already satisfied: requests-html in c:\\programdata\\anaconda3\\lib\\site-packages (0.10.0)\n",
      "Requirement already satisfied: pyppeteer>=0.0.14 in c:\\programdata\\anaconda3\\lib\\site-packages (from requests-html) (1.0.2)\n",
      "Requirement already satisfied: parse in c:\\programdata\\anaconda3\\lib\\site-packages (from requests-html) (1.19.0)\n",
      "Requirement already satisfied: pyquery in c:\\programdata\\anaconda3\\lib\\site-packages (from requests-html) (1.4.3)\n",
      "Requirement already satisfied: fake-useragent in c:\\programdata\\anaconda3\\lib\\site-packages (from requests-html) (0.1.11)\n",
      "Requirement already satisfied: requests in c:\\programdata\\anaconda3\\lib\\site-packages (from requests-html) (2.26.0)\n",
      "Requirement already satisfied: bs4 in c:\\programdata\\anaconda3\\lib\\site-packages (from requests-html) (0.0.1)\n",
      "Requirement already satisfied: w3lib in c:\\programdata\\anaconda3\\lib\\site-packages (from requests-html) (2.0.1)\n",
      "Requirement already satisfied: urllib3<2.0.0,>=1.25.8 in c:\\programdata\\anaconda3\\lib\\site-packages (from pyppeteer>=0.0.14->requests-html) (1.26.7)\n",
      "Requirement already satisfied: appdirs<2.0.0,>=1.4.3 in c:\\programdata\\anaconda3\\lib\\site-packages (from pyppeteer>=0.0.14->requests-html) (1.4.4)\n",
      "Requirement already satisfied: pyee<9.0.0,>=8.1.0 in c:\\programdata\\anaconda3\\lib\\site-packages (from pyppeteer>=0.0.14->requests-html) (8.2.2)\n",
      "Requirement already satisfied: importlib-metadata>=1.4 in c:\\programdata\\anaconda3\\lib\\site-packages (from pyppeteer>=0.0.14->requests-html) (4.8.1)\n",
      "Requirement already satisfied: websockets<11.0,>=10.0 in c:\\programdata\\anaconda3\\lib\\site-packages (from pyppeteer>=0.0.14->requests-html) (10.3)\n",
      "Requirement already satisfied: tqdm<5.0.0,>=4.42.1 in c:\\programdata\\anaconda3\\lib\\site-packages (from pyppeteer>=0.0.14->requests-html) (4.62.3)\n",
      "Requirement already satisfied: certifi>=2021 in c:\\programdata\\anaconda3\\lib\\site-packages (from pyppeteer>=0.0.14->requests-html) (2021.10.8)\n",
      "Requirement already satisfied: zipp>=0.5 in c:\\programdata\\anaconda3\\lib\\site-packages (from importlib-metadata>=1.4->pyppeteer>=0.0.14->requests-html) (3.6.0)\n",
      "Requirement already satisfied: colorama in c:\\programdata\\anaconda3\\lib\\site-packages (from tqdm<5.0.0,>=4.42.1->pyppeteer>=0.0.14->requests-html) (0.4.4)\n",
      "Requirement already satisfied: beautifulsoup4 in c:\\programdata\\anaconda3\\lib\\site-packages (from bs4->requests-html) (4.10.0)\n",
      "Requirement already satisfied: soupsieve>1.2 in c:\\programdata\\anaconda3\\lib\\site-packages (from beautifulsoup4->bs4->requests-html) (2.2.1)\n",
      "Requirement already satisfied: lxml>=2.1 in c:\\programdata\\anaconda3\\lib\\site-packages (from pyquery->requests-html) (4.6.3)\n",
      "Requirement already satisfied: cssselect>0.7.9 in c:\\programdata\\anaconda3\\lib\\site-packages (from pyquery->requests-html) (1.1.0)\n",
      "Requirement already satisfied: idna<4,>=2.5 in c:\\programdata\\anaconda3\\lib\\site-packages (from requests->requests-html) (3.2)\n",
      "Requirement already satisfied: charset-normalizer~=2.0.0 in c:\\programdata\\anaconda3\\lib\\site-packages (from requests->requests-html) (2.0.4)\n"
     ]
    }
   ],
   "source": [
    "!pip install requests-html"
   ]
  },
  {
   "cell_type": "code",
   "execution_count": 5,
   "id": "7744f5d6",
   "metadata": {},
   "outputs": [],
   "source": [
    "from requests_html import HTMLSession"
   ]
  },
  {
   "cell_type": "code",
   "execution_count": 6,
   "id": "83d522f0",
   "metadata": {},
   "outputs": [],
   "source": [
    "session = HTMLSession()"
   ]
  },
  {
   "cell_type": "code",
   "execution_count": 7,
   "id": "242a6674",
   "metadata": {},
   "outputs": [],
   "source": [
    "url = \"https://www.rokomari.com/book/200400/nur-nurani-quran-sharif-42no-uccharon-artpaper-color\""
   ]
  },
  {
   "cell_type": "code",
   "execution_count": 8,
   "id": "271fb755",
   "metadata": {},
   "outputs": [
    {
     "data": {
      "text/plain": [
       "<Response [200]>"
      ]
     },
     "execution_count": 8,
     "metadata": {},
     "output_type": "execute_result"
    }
   ],
   "source": [
    "session = HTMLSession()\n",
    "r = session.get(url)\n",
    "r"
   ]
  },
  {
   "cell_type": "code",
   "execution_count": 73,
   "id": "7c2920d7",
   "metadata": {},
   "outputs": [],
   "source": [
    "def rokomari_book_scrapping(book_url,book_num):\n",
    "  # url = \"http://ihadis.com/books/bukhari\"\n",
    "#   for i in range(1, total_chapter+1):\n",
    "#     chapter_url = url + \"/chapter/\" + str(i)\n",
    "#     print(chapter_url)\n",
    "    # chapter_url = http://ihadis.com/books/bukhari/chapter/2\n",
    "\n",
    "    r = session.get(url)\n",
    "    # define the patter\n",
    "    title = \".details-book-main-info__header\"\n",
    "    author = \".details-book-info__content-author\"\n",
    "    category = \".details-book-info__content-category d-flex align-items-center\"\n",
    "    rating = \".details-book-info__content-rating\"\n",
    "    price = \".details-book-info__content-book-price\"\n",
    "    aditional_info = \".details-book-additional-info__content\"\n",
    "    \n",
    "    \n",
    "\n",
    "    title_text = [i.text for i in r.html.find(title)]\n",
    "    author_text = [i.text for i in r.html.find(author)]\n",
    "    category_text = [i.text for i in r.html.find(category)]\n",
    "    rating_info = [i.text for i in r.html.find(rating)]\n",
    "    price_info = [i.text for i in r.html.find(price)]\n",
    "    aditional_info_text = [i.text for i in r.html.find(aditional_info)]\n",
    "    print(f\"{book_num}: \",len(title_text), len(author_text), len(category_text), len(rating_info), len(price_info),len(aditional_info_text))\n",
    "\n",
    "    with open(f\"{book_num}.txt\", \"w\") as f:\n",
    "      f.write(\"No., Title, Author,Category,Rating,Price,Aditional\\n\")\n",
    "      for t, a, c, r, p ,ad in zip(title_text, author_text, category_text, rating_info, price_info,aditional_info_text):\n",
    "        f.write(f\"{t}, {a}, {c}, {r}, {p} , {ad}\")\n",
    "        f.write('\\n')"
   ]
  },
  {
   "cell_type": "code",
   "execution_count": 11,
   "id": "3ce7ae65",
   "metadata": {},
   "outputs": [],
   "source": [
    "import time"
   ]
  },
  {
   "cell_type": "code",
   "execution_count": 74,
   "id": "711dc5a1",
   "metadata": {},
   "outputs": [
    {
     "name": "stdout",
     "output_type": "stream",
     "text": [
      "200400:  1 1 0 1 1 1\n",
      "==========1.6874048709869385=======\n"
     ]
    }
   ],
   "source": [
    "book_num = 200400\n",
    "book_url = \"https://www.rokomari.com/book/{book_num}\"\n",
    "start = time.time()\n",
    "rokomari_book_scrapping(book_url,book_num)\n",
    "print(f\"=========={time.time()-start}=======\")"
   ]
  },
  {
   "cell_type": "code",
   "execution_count": null,
   "id": "a01a2828",
   "metadata": {},
   "outputs": [],
   "source": []
  },
  {
   "cell_type": "code",
   "execution_count": null,
   "id": "1ba0e000",
   "metadata": {},
   "outputs": [],
   "source": []
  },
  {
   "cell_type": "code",
   "execution_count": 67,
   "id": "702dad4f",
   "metadata": {},
   "outputs": [],
   "source": []
  },
  {
   "cell_type": "code",
   "execution_count": null,
   "id": "e640f396",
   "metadata": {},
   "outputs": [],
   "source": []
  }
 ],
 "metadata": {
  "kernelspec": {
   "display_name": "Python 3 (ipykernel)",
   "language": "python",
   "name": "python3"
  },
  "language_info": {
   "codemirror_mode": {
    "name": "ipython",
    "version": 3
   },
   "file_extension": ".py",
   "mimetype": "text/x-python",
   "name": "python",
   "nbconvert_exporter": "python",
   "pygments_lexer": "ipython3",
   "version": "3.9.7"
  }
 },
 "nbformat": 4,
 "nbformat_minor": 5
}
