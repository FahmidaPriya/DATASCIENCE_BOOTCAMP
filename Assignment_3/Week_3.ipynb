{
 "cells": [
  {
   "cell_type": "markdown",
   "id": "910abe1d",
   "metadata": {},
   "source": [
    "1. Import the numpy package under the name np (★☆☆)"
   ]
  },
  {
   "cell_type": "code",
   "execution_count": 1,
   "id": "b73650bd",
   "metadata": {},
   "outputs": [],
   "source": [
    "import numpy as np"
   ]
  },
  {
   "cell_type": "markdown",
   "id": "170921c3",
   "metadata": {},
   "source": [
    "2. Print the numpy version and the configuration (★☆☆)"
   ]
  },
  {
   "cell_type": "code",
   "execution_count": 2,
   "id": "1aeab9f4",
   "metadata": {},
   "outputs": [
    {
     "name": "stdout",
     "output_type": "stream",
     "text": [
      "1.20.3\n",
      "blas_mkl_info:\n",
      "    libraries = ['mkl_rt']\n",
      "    library_dirs = ['C:/ProgramData/Anaconda3\\\\Library\\\\lib']\n",
      "    define_macros = [('SCIPY_MKL_H', None), ('HAVE_CBLAS', None)]\n",
      "    include_dirs = ['C:/ProgramData/Anaconda3\\\\Library\\\\include']\n",
      "blas_opt_info:\n",
      "    libraries = ['mkl_rt']\n",
      "    library_dirs = ['C:/ProgramData/Anaconda3\\\\Library\\\\lib']\n",
      "    define_macros = [('SCIPY_MKL_H', None), ('HAVE_CBLAS', None)]\n",
      "    include_dirs = ['C:/ProgramData/Anaconda3\\\\Library\\\\include']\n",
      "lapack_mkl_info:\n",
      "    libraries = ['mkl_rt']\n",
      "    library_dirs = ['C:/ProgramData/Anaconda3\\\\Library\\\\lib']\n",
      "    define_macros = [('SCIPY_MKL_H', None), ('HAVE_CBLAS', None)]\n",
      "    include_dirs = ['C:/ProgramData/Anaconda3\\\\Library\\\\include']\n",
      "lapack_opt_info:\n",
      "    libraries = ['mkl_rt']\n",
      "    library_dirs = ['C:/ProgramData/Anaconda3\\\\Library\\\\lib']\n",
      "    define_macros = [('SCIPY_MKL_H', None), ('HAVE_CBLAS', None)]\n",
      "    include_dirs = ['C:/ProgramData/Anaconda3\\\\Library\\\\include']\n",
      "None\n"
     ]
    }
   ],
   "source": [
    "print(np.__version__)\n",
    "print(np.show_config())"
   ]
  },
  {
   "cell_type": "markdown",
   "id": "6d595147",
   "metadata": {},
   "source": [
    "3. Create a null vector of size 10 (★☆☆)"
   ]
  },
  {
   "cell_type": "code",
   "execution_count": 3,
   "id": "757e9e3e",
   "metadata": {},
   "outputs": [
    {
     "data": {
      "text/plain": [
       "array([0., 0., 0., 0., 0., 0., 0., 0., 0., 0.])"
      ]
     },
     "execution_count": 3,
     "metadata": {},
     "output_type": "execute_result"
    }
   ],
   "source": [
    "a=np.zeros(10)\n",
    "a"
   ]
  },
  {
   "cell_type": "markdown",
   "id": "48e66cc7",
   "metadata": {},
   "source": [
    "4. How to find the memory size of any array (★☆☆)\n",
    " "
   ]
  },
  {
   "cell_type": "code",
   "execution_count": 4,
   "id": "a93f6ece",
   "metadata": {},
   "outputs": [
    {
     "data": {
      "text/plain": [
       "10"
      ]
     },
     "execution_count": 4,
     "metadata": {},
     "output_type": "execute_result"
    }
   ],
   "source": [
    "a.size"
   ]
  },
  {
   "cell_type": "markdown",
   "id": "fddea068",
   "metadata": {},
   "source": [
    "5. How to get the documentation of the numpy add function from the command line? (★☆☆)"
   ]
  },
  {
   "cell_type": "code",
   "execution_count": null,
   "id": "949bef39",
   "metadata": {},
   "outputs": [],
   "source": []
  },
  {
   "cell_type": "markdown",
   "id": "e4e7a82e",
   "metadata": {},
   "source": [
    "6. Create a null vector of size 10 but the fifth value which is 1 (★☆☆)\n",
    " "
   ]
  },
  {
   "cell_type": "code",
   "execution_count": 6,
   "id": "4bb4d73b",
   "metadata": {},
   "outputs": [
    {
     "data": {
      "text/plain": [
       "array([0., 0., 0., 0., 1., 0., 0., 0., 0., 0.])"
      ]
     },
     "execution_count": 6,
     "metadata": {},
     "output_type": "execute_result"
    }
   ],
   "source": [
    "a=np.zeros(10)\n",
    "a[4]=1\n",
    "a"
   ]
  },
  {
   "cell_type": "markdown",
   "id": "0a6a2259",
   "metadata": {},
   "source": [
    "7. Create a vector with values ranging from 10 to 49 (★☆☆)"
   ]
  },
  {
   "cell_type": "code",
   "execution_count": 7,
   "id": "3d2e33ba",
   "metadata": {},
   "outputs": [
    {
     "data": {
      "text/plain": [
       "array([10, 11, 12, 13, 14, 15, 16, 17, 18, 19, 20, 21, 22, 23, 24, 25, 26,\n",
       "       27, 28, 29, 30, 31, 32, 33, 34, 35, 36, 37, 38, 39, 40, 41, 42, 43,\n",
       "       44, 45, 46, 47, 48, 49])"
      ]
     },
     "execution_count": 7,
     "metadata": {},
     "output_type": "execute_result"
    }
   ],
   "source": [
    "a=np.arange(10,50)\n",
    "a"
   ]
  },
  {
   "cell_type": "markdown",
   "id": "84f4583b",
   "metadata": {},
   "source": [
    "8. Reverse a vector (first element becomes last) (★☆☆)\n",
    " "
   ]
  },
  {
   "cell_type": "code",
   "execution_count": 9,
   "id": "9575200d",
   "metadata": {},
   "outputs": [
    {
     "data": {
      "text/plain": [
       "array([49, 48, 47, 46, 45, 44, 43, 42, 41, 40, 39, 38, 37, 36, 35, 34, 33,\n",
       "       32, 31, 30, 29, 28, 27, 26, 25, 24, 23, 22, 21, 20, 19, 18, 17, 16,\n",
       "       15, 14, 13, 12, 11, 10])"
      ]
     },
     "execution_count": 9,
     "metadata": {},
     "output_type": "execute_result"
    }
   ],
   "source": [
    "a=np.arange(10,50)\n",
    "a=a[::-1]\n",
    "a"
   ]
  },
  {
   "cell_type": "markdown",
   "id": "c4575161",
   "metadata": {},
   "source": [
    "9. Create a 3x3 matrix with values ranging from 0 to 8 (★☆☆)"
   ]
  },
  {
   "cell_type": "code",
   "execution_count": 10,
   "id": "700b9efa",
   "metadata": {},
   "outputs": [
    {
     "data": {
      "text/plain": [
       "array([[0, 1, 2],\n",
       "       [3, 4, 5],\n",
       "       [6, 7, 8]])"
      ]
     },
     "execution_count": 10,
     "metadata": {},
     "output_type": "execute_result"
    }
   ],
   "source": [
    "a=np.arange(0,9).reshape(3,3)\n",
    "a"
   ]
  },
  {
   "cell_type": "markdown",
   "id": "18de2d6e",
   "metadata": {},
   "source": [
    "10. Find indices of non-zero elements from [1,2,0,0,4,0] (★☆☆)"
   ]
  },
  {
   "cell_type": "code",
   "execution_count": 11,
   "id": "2e872cd6",
   "metadata": {},
   "outputs": [
    {
     "data": {
      "text/plain": [
       "(array([0, 1, 4], dtype=int64),)"
      ]
     },
     "execution_count": 11,
     "metadata": {},
     "output_type": "execute_result"
    }
   ],
   "source": [
    "a=[1,2,0,0,4,0]\n",
    "a=np.nonzero(a)\n",
    "a"
   ]
  },
  {
   "cell_type": "markdown",
   "id": "ae068970",
   "metadata": {},
   "source": [
    "11. Create a 3x3 identity matrix (★☆☆)\n",
    " "
   ]
  },
  {
   "cell_type": "code",
   "execution_count": 12,
   "id": "5ca0cae2",
   "metadata": {},
   "outputs": [
    {
     "data": {
      "text/plain": [
       "array([[1., 0., 0.],\n",
       "       [0., 1., 0.],\n",
       "       [0., 0., 1.]])"
      ]
     },
     "execution_count": 12,
     "metadata": {},
     "output_type": "execute_result"
    }
   ],
   "source": [
    "a=np.eye(3)\n",
    "a"
   ]
  },
  {
   "cell_type": "markdown",
   "id": "8bbad927",
   "metadata": {},
   "source": [
    "12. Create a 3x3x3 array with random values (★☆☆)"
   ]
  },
  {
   "cell_type": "code",
   "execution_count": 26,
   "id": "1aff1281",
   "metadata": {},
   "outputs": [
    {
     "data": {
      "text/plain": [
       "array([[[0.66034504, 0.56707534, 0.37995666],\n",
       "        [0.50079473, 0.03609322, 0.76073188],\n",
       "        [0.13830363, 0.51786281, 0.36837359]],\n",
       "\n",
       "       [[0.33805672, 0.41990977, 0.8357216 ],\n",
       "        [0.67319568, 0.55119923, 0.19594283],\n",
       "        [0.76707418, 0.73470316, 0.16004181]],\n",
       "\n",
       "       [[0.4244481 , 0.15088901, 0.90241957],\n",
       "        [0.44034023, 0.30857191, 0.73404774],\n",
       "        [0.95084451, 0.68995772, 0.23671481]]])"
      ]
     },
     "execution_count": 26,
     "metadata": {},
     "output_type": "execute_result"
    }
   ],
   "source": [
    "a=np.random.random((3,3,3))\n",
    "a"
   ]
  },
  {
   "cell_type": "markdown",
   "id": "9366f2c0",
   "metadata": {},
   "source": [
    "13. Create a 10x10 array with random values and find the minimum and maximum values (★☆☆)"
   ]
  },
  {
   "cell_type": "code",
   "execution_count": 27,
   "id": "0c2e0d16",
   "metadata": {},
   "outputs": [
    {
     "name": "stdout",
     "output_type": "stream",
     "text": [
      "[[0.87895821 0.80653436 0.83630177 0.27642332 0.68577637 0.34456368\n",
      "  0.70125826 0.75513492 0.45479431 0.23003377]\n",
      " [0.17905277 0.14341443 0.6694635  0.91713636 0.31629145 0.43278225\n",
      "  0.17267194 0.72948219 0.96628284 0.8136298 ]\n",
      " [0.75608642 0.37450456 0.03622497 0.6478653  0.06092802 0.00567927\n",
      "  0.15418493 0.15889776 0.17264487 0.18527717]\n",
      " [0.33768177 0.64482025 0.50025705 0.17416484 0.77078342 0.76004237\n",
      "  0.64632441 0.24606175 0.73004645 0.10664271]\n",
      " [0.58070827 0.87264256 0.65833254 0.3896965  0.72505897 0.57785713\n",
      "  0.44734077 0.54160692 0.72081991 0.70202208]\n",
      " [0.47826196 0.77069122 0.52266059 0.99469564 0.68182858 0.3868966\n",
      "  0.68168305 0.11546578 0.05989374 0.30615066]\n",
      " [0.65123565 0.25400839 0.65484095 0.26441891 0.6976215  0.17951261\n",
      "  0.64335988 0.99324559 0.41253038 0.12995642]\n",
      " [0.0225308  0.79140125 0.25601373 0.52446333 0.47662252 0.08376035\n",
      "  0.87419469 0.07406872 0.7392426  0.03098946]\n",
      " [0.86776299 0.22349959 0.33947664 0.19189533 0.3228157  0.30018945\n",
      "  0.44115458 0.24622368 0.52462456 0.11753037]\n",
      " [0.62824533 0.74027443 0.78812855 0.39446633 0.7665309  0.66503935\n",
      "  0.85490959 0.78482972 0.29869969 0.27712831]]\n"
     ]
    }
   ],
   "source": [
    "a=np.random.random((10,10))\n",
    "print(a)\n"
   ]
  },
  {
   "cell_type": "code",
   "execution_count": 28,
   "id": "4739fa84",
   "metadata": {},
   "outputs": [
    {
     "name": "stdout",
     "output_type": "stream",
     "text": [
      "[0.0225308  0.14341443 0.03622497 0.17416484 0.06092802 0.00567927\n",
      " 0.15418493 0.07406872 0.05989374 0.03098946]\n"
     ]
    }
   ],
   "source": [
    "print(a.min(axis=0))\n"
   ]
  },
  {
   "cell_type": "code",
   "execution_count": 29,
   "id": "dfb78ffb",
   "metadata": {},
   "outputs": [
    {
     "name": "stdout",
     "output_type": "stream",
     "text": [
      "[0.87895821 0.87264256 0.83630177 0.99469564 0.77078342 0.76004237\n",
      " 0.87419469 0.99324559 0.96628284 0.8136298 ]\n"
     ]
    }
   ],
   "source": [
    "print(a.max(axis=0))"
   ]
  },
  {
   "cell_type": "markdown",
   "id": "ba38b133",
   "metadata": {},
   "source": [
    "14. Create a random vector of size 30 and find the mean value (★☆☆)"
   ]
  },
  {
   "cell_type": "code",
   "execution_count": 35,
   "id": "b8b755ee",
   "metadata": {},
   "outputs": [
    {
     "data": {
      "text/plain": [
       "0.5119474463107578"
      ]
     },
     "execution_count": 35,
     "metadata": {},
     "output_type": "execute_result"
    }
   ],
   "source": [
    "a=np.random.random((30))\n",
    "a=a.mean()\n",
    "a"
   ]
  },
  {
   "cell_type": "markdown",
   "id": "60066f52",
   "metadata": {},
   "source": [
    "15. Create a 2d array with 1 on the border and 0 inside (★☆☆)"
   ]
  },
  {
   "cell_type": "code",
   "execution_count": 41,
   "id": "38f0d6ef",
   "metadata": {},
   "outputs": [
    {
     "data": {
      "text/plain": [
       "array([[1., 1., 1., 1.],\n",
       "       [1., 0., 0., 1.],\n",
       "       [1., 0., 0., 1.],\n",
       "       [1., 1., 1., 1.]])"
      ]
     },
     "execution_count": 41,
     "metadata": {},
     "output_type": "execute_result"
    }
   ],
   "source": [
    "a=np.ones((4,4))\n",
    "a[1:-1,1:-1]=0\n",
    "a"
   ]
  },
  {
   "cell_type": "markdown",
   "id": "693a7655",
   "metadata": {},
   "source": [
    "16. How to add a border (filled with 0's) around an existing array? (★☆☆)"
   ]
  },
  {
   "cell_type": "code",
   "execution_count": 49,
   "id": "da2dcc5e",
   "metadata": {},
   "outputs": [
    {
     "data": {
      "text/plain": [
       "array([[1., 1., 1., 1.],\n",
       "       [1., 1., 1., 1.],\n",
       "       [1., 1., 1., 1.],\n",
       "       [1., 1., 1., 1.]])"
      ]
     },
     "execution_count": 49,
     "metadata": {},
     "output_type": "execute_result"
    }
   ],
   "source": [
    "a=np.ones((4,4))\n",
    "a"
   ]
  },
  {
   "cell_type": "markdown",
   "id": "34fffab3",
   "metadata": {},
   "source": [
    "17. What is the result of the following expression? (★☆☆)"
   ]
  },
  {
   "cell_type": "code",
   "execution_count": 51,
   "id": "98d866dc",
   "metadata": {},
   "outputs": [
    {
     "name": "stdout",
     "output_type": "stream",
     "text": [
      "nan\n",
      "False\n",
      "False\n",
      "nan\n",
      "True\n",
      "False\n"
     ]
    }
   ],
   "source": [
    "print(0 * np.nan)\n",
    "print(np.nan == np.nan)\n",
    "print(np.inf > np.nan)\n",
    "print(np.nan - np.nan)\n",
    "print(np.nan in set([np.nan]))\n",
    "print(0.3 == 3 * 0.1)"
   ]
  },
  {
   "cell_type": "markdown",
   "id": "12735ce6",
   "metadata": {},
   "source": [
    "18. Create a 5x5 matrix with values 1,2,3,4 just below the diagonal (★☆☆)"
   ]
  },
  {
   "cell_type": "code",
   "execution_count": null,
   "id": "e63b20ee",
   "metadata": {},
   "outputs": [],
   "source": []
  },
  {
   "cell_type": "markdown",
   "id": "daa518fc",
   "metadata": {},
   "source": [
    "19. Multiply a 5x3 matrix by a 3x2 matrix (★☆☆)"
   ]
  },
  {
   "cell_type": "code",
   "execution_count": null,
   "id": "ee7a3b65",
   "metadata": {},
   "outputs": [],
   "source": [
    " 20.Given a 1D array, negate all elements which are between 3 and 8, in place. (★☆☆)"
   ]
  },
  {
   "cell_type": "code",
   "execution_count": 31,
   "id": "0e9e1bf4",
   "metadata": {},
   "outputs": [
    {
     "name": "stdout",
     "output_type": "stream",
     "text": [
      "[ 0  1  2  3 -4 -5 -6 -7  8  9 10 11 12 13 14 15 16 17 18 19]\n"
     ]
    }
   ],
   "source": [
    "a = np.arange(20)\n",
    "a[(3 < a) & (a < 8)] *=-1\n",
    "print(a)"
   ]
  },
  {
   "cell_type": "markdown",
   "id": "4e862a45",
   "metadata": {},
   "source": [
    "21. What is the output of the following script? (★☆☆)\n",
    "\n",
    "print(sum(range(5),-1))\n",
    "from numpy import *\n",
    "print(sum(range(5),-1))"
   ]
  },
  {
   "cell_type": "code",
   "execution_count": 32,
   "id": "b8c1b035",
   "metadata": {},
   "outputs": [
    {
     "name": "stdout",
     "output_type": "stream",
     "text": [
      "9\n",
      "10\n"
     ]
    }
   ],
   "source": [
    "print(sum(range(5),-1)) \n",
    "from numpy import * \n",
    "print(sum(range(5),-1))"
   ]
  },
  {
   "cell_type": "markdown",
   "id": "00c77fef",
   "metadata": {},
   "source": [
    "22.Consider an integer vector Z, which of these expressions are legal? (★☆☆)\n",
    "Z**Z\n",
    "2 << Z >> 2\n",
    "Z <- Z\n",
    "1j*Z\n",
    "Z/1/1\n",
    "Z<Z>Z"
   ]
  },
  {
   "cell_type": "markdown",
   "id": "c4046893",
   "metadata": {},
   "source": [
    "\n",
    "2 << Z >> 2 \n",
    "\n",
    "\n",
    "Z <- Z "
   ]
  },
  {
   "cell_type": "markdown",
   "id": "759e1f88",
   "metadata": {},
   "source": [
    "23.What are the result of the following expressions? (★☆☆)\n",
    "\n",
    "np.array(0) / np.array(0)\n",
    "\n",
    "np.array(0) // np.array(0)\n",
    "\n",
    "np.array([np.nan]).astype(int).astype(float)"
   ]
  },
  {
   "cell_type": "code",
   "execution_count": 34,
   "id": "6a3b15de",
   "metadata": {},
   "outputs": [
    {
     "name": "stdout",
     "output_type": "stream",
     "text": [
      "nan\n",
      "0\n",
      "[-2.14748365e+09]\n"
     ]
    },
    {
     "name": "stderr",
     "output_type": "stream",
     "text": [
      "C:\\Users\\Asus\\AppData\\Local\\Temp/ipykernel_13232/3912170336.py:1: RuntimeWarning: invalid value encountered in true_divide\n",
      "  print(np.array(0) / np.array(0))\n",
      "C:\\Users\\Asus\\AppData\\Local\\Temp/ipykernel_13232/3912170336.py:2: RuntimeWarning: divide by zero encountered in floor_divide\n",
      "  print(np.array(0) // np.array(0))\n"
     ]
    }
   ],
   "source": [
    "print(np.array(0) / np.array(0))\n",
    "print(np.array(0) // np.array(0))\n",
    "print(np.array([np.nan]).astype(int).astype(float))"
   ]
  },
  {
   "cell_type": "markdown",
   "id": "9426f001",
   "metadata": {},
   "source": [
    "24.How to round away from zero a float array ? (★☆☆)"
   ]
  },
  {
   "cell_type": "code",
   "execution_count": 39,
   "id": "ce08964d",
   "metadata": {},
   "outputs": [
    {
     "name": "stdout",
     "output_type": "stream",
     "text": [
      "[-1.63195024  4.97113487 18.71343617]\n",
      "[-2.  5. 19.]\n"
     ]
    }
   ],
   "source": [
    "a=np.random.uniform((-5,+10,20))\n",
    "print(a)\n",
    "a=np.where(a>0,np.ceil(a),np.floor(a))\n",
    "print(a)"
   ]
  },
  {
   "cell_type": "markdown",
   "id": "1788be60",
   "metadata": {},
   "source": [
    "25.How to find common values between two arrays? (★☆☆)\n"
   ]
  },
  {
   "cell_type": "code",
   "execution_count": 42,
   "id": "60158140",
   "metadata": {},
   "outputs": [
    {
     "name": "stdout",
     "output_type": "stream",
     "text": [
      "[1 2 3 4]\n"
     ]
    }
   ],
   "source": [
    "#we can find common values between two arrays with the help intersect1d().\n",
    "a1 = np.array([0, 1, 2, 3, 4])\n",
    "a2 = np.array([1, 2, 3, 4, 5])\n",
    "print(np.intersect1d(a1, a2))"
   ]
  },
  {
   "cell_type": "markdown",
   "id": "00ae8ed6",
   "metadata": {},
   "source": [
    "26. Is the following expressions true? (★☆☆)\n",
    "np.sqrt(-1) == np.emath.sqrt(-1)"
   ]
  },
  {
   "cell_type": "code",
   "execution_count": 43,
   "id": "8ac4430d",
   "metadata": {},
   "outputs": [
    {
     "name": "stdout",
     "output_type": "stream",
     "text": [
      "False\n"
     ]
    },
    {
     "name": "stderr",
     "output_type": "stream",
     "text": [
      "C:\\Users\\Asus\\AppData\\Local\\Temp/ipykernel_13232/1923599356.py:1: RuntimeWarning: invalid value encountered in sqrt\n",
      "  print(np.sqrt(-1) == np.emath.sqrt(-1))\n"
     ]
    }
   ],
   "source": [
    "\n",
    "print(np.sqrt(-1) == np.emath.sqrt(-1))"
   ]
  },
  {
   "cell_type": "markdown",
   "id": "9cb3b80f",
   "metadata": {},
   "source": [
    "27.How to get the dates of yesterday, today and tomorrow? (★☆☆)"
   ]
  },
  {
   "cell_type": "code",
   "execution_count": 49,
   "id": "89069eb7",
   "metadata": {
    "scrolled": false
   },
   "outputs": [
    {
     "name": "stdout",
     "output_type": "stream",
     "text": [
      "2022-10-11\n",
      "2022-10-12\n",
      "2022-10-13\n"
     ]
    }
   ],
   "source": [
    "\n",
    "today=np.datetime64('2022-10-12')\n",
    "yesterday= today - np.timedelta64(1)\n",
    "print(yesterday)\n",
    "print(today)\n",
    "tommorow=today+np.timedelta64(1)\n",
    "print(tommorow)"
   ]
  },
  {
   "cell_type": "markdown",
   "id": "7c3bd9bb",
   "metadata": {},
   "source": [
    "28.How to get all the dates corresponding to the month of July 2016? (★★☆)"
   ]
  },
  {
   "cell_type": "code",
   "execution_count": 53,
   "id": "a57753ff",
   "metadata": {},
   "outputs": [
    {
     "data": {
      "text/plain": [
       "array(['2022-07-01', '2022-07-02', '2022-07-03', '2022-07-04',\n",
       "       '2022-07-05', '2022-07-06', '2022-07-07', '2022-07-08',\n",
       "       '2022-07-09', '2022-07-10', '2022-07-11', '2022-07-12',\n",
       "       '2022-07-13', '2022-07-14', '2022-07-15', '2022-07-16',\n",
       "       '2022-07-17', '2022-07-18', '2022-07-19', '2022-07-20',\n",
       "       '2022-07-21', '2022-07-22', '2022-07-23', '2022-07-24',\n",
       "       '2022-07-25', '2022-07-26', '2022-07-27', '2022-07-28',\n",
       "       '2022-07-29', '2022-07-30'], dtype='datetime64[D]')"
      ]
     },
     "execution_count": 53,
     "metadata": {},
     "output_type": "execute_result"
    }
   ],
   "source": [
    "a=np.arange(datetime64('2022-07-01'),datetime64('2022-07-31'))\n",
    "a"
   ]
  },
  {
   "cell_type": "markdown",
   "id": "32e06545",
   "metadata": {},
   "source": [
    "29. Create a 5x5 matrix with row values ranging from 0 to 4 (★★☆)\n",
    " "
   ]
  },
  {
   "cell_type": "code",
   "execution_count": 64,
   "id": "699179a5",
   "metadata": {},
   "outputs": [
    {
     "data": {
      "text/plain": [
       "array([[0, 1, 2, 3, 4],\n",
       "       [0, 1, 2, 3, 4],\n",
       "       [0, 1, 2, 3, 4],\n",
       "       [0, 1, 2, 3, 4],\n",
       "       [0, 1, 2, 3, 4]])"
      ]
     },
     "execution_count": 64,
     "metadata": {},
     "output_type": "execute_result"
    }
   ],
   "source": [
    "np.tile(np.arange(0,5),(5,1))\n"
   ]
  },
  {
   "cell_type": "markdown",
   "id": "4a035597",
   "metadata": {},
   "source": [
    "30.Create a vector of size 10 with values ranging from 0 to 1, both excluded (★★☆)"
   ]
  },
  {
   "cell_type": "code",
   "execution_count": 65,
   "id": "4b3bc7b3",
   "metadata": {},
   "outputs": [
    {
     "data": {
      "text/plain": [
       "array([ 0,  1,  2,  3,  4,  5,  6,  7,  8,  9, 10])"
      ]
     },
     "execution_count": 65,
     "metadata": {},
     "output_type": "execute_result"
    }
   ],
   "source": [
    "a=np.arange(0,11)\n",
    "a"
   ]
  },
  {
   "cell_type": "markdown",
   "id": "a757e84f",
   "metadata": {},
   "source": [
    "31.Create a random vector of size 10 and sort it (★★☆)"
   ]
  },
  {
   "cell_type": "code",
   "execution_count": 67,
   "id": "0a6ec89c",
   "metadata": {},
   "outputs": [
    {
     "name": "stdout",
     "output_type": "stream",
     "text": [
      "[0.09780995 0.26044635 0.26304486 0.37552686 0.42045483 0.44079013\n",
      " 0.55363935 0.60999853 0.65849603 0.77760698]\n"
     ]
    }
   ],
   "source": [
    "a=np.random.random(10)\n",
    "print(np.sort(a))\n"
   ]
  },
  {
   "cell_type": "markdown",
   "id": "4ba2104f",
   "metadata": {},
   "source": [
    "32.How to sum a small array faster than np.sum? (★★☆)"
   ]
  },
  {
   "cell_type": "code",
   "execution_count": 68,
   "id": "6bc66a17",
   "metadata": {},
   "outputs": [
    {
     "data": {
      "text/plain": [
       "10"
      ]
     },
     "execution_count": 68,
     "metadata": {},
     "output_type": "execute_result"
    }
   ],
   "source": [
    "a = np.arange(1,5)\n",
    "np.add.reduce(a)"
   ]
  },
  {
   "cell_type": "markdown",
   "id": "39976424",
   "metadata": {},
   "source": [
    "33.Consider two random array A and B, check if they are equal (★★☆)"
   ]
  },
  {
   "cell_type": "code",
   "execution_count": 71,
   "id": "32ad5701",
   "metadata": {},
   "outputs": [
    {
     "name": "stdout",
     "output_type": "stream",
     "text": [
      "[0.59045428 0.7426275  0.01254787 0.01039353 0.39663273]\n",
      "[0.55040807 0.03986025 0.62458977 0.70452432 0.80179614]\n"
     ]
    },
    {
     "data": {
      "text/plain": [
       "False"
      ]
     },
     "execution_count": 71,
     "metadata": {},
     "output_type": "execute_result"
    }
   ],
   "source": [
    "a=np.random.random(5)\n",
    "print(a)\n",
    "b=np.random.random(5)\n",
    "print(b)\n",
    "np.array_equal(a,b)"
   ]
  },
  {
   "cell_type": "markdown",
   "id": "bb60331a",
   "metadata": {},
   "source": [
    "34.Create random vector of size 10 and replace the maximum value by 0 (★★☆)"
   ]
  },
  {
   "cell_type": "code",
   "execution_count": 76,
   "id": "1d627068",
   "metadata": {},
   "outputs": [
    {
     "name": "stdout",
     "output_type": "stream",
     "text": [
      "[0.68048089 0.61229272 0.49257882 0.         0.14910303 0.61538516\n",
      " 0.04907993 0.10783987 0.15296295 0.35778778]\n"
     ]
    }
   ],
   "source": [
    "a=np.random.random(10)\n",
    "a[np.argmax(a)]=0\n",
    "print(a)"
   ]
  },
  {
   "cell_type": "markdown",
   "id": "ac660b5e",
   "metadata": {},
   "source": [
    "35.How to print all the values of an array? (★★☆)\n",
    " "
   ]
  },
  {
   "cell_type": "code",
   "execution_count": 82,
   "id": "1803a023",
   "metadata": {},
   "outputs": [
    {
     "name": "stdout",
     "output_type": "stream",
     "text": [
      "[0 1 2 3 4 5 6 7 8 9]\n"
     ]
    }
   ],
   "source": [
    "a=np.arange(10)\n",
    "print(a)"
   ]
  },
  {
   "cell_type": "markdown",
   "id": "658d4066",
   "metadata": {},
   "source": [
    "36.Create a structured array representing a position (x,y) and a color (r,g,b) (★★☆)"
   ]
  },
  {
   "cell_type": "code",
   "execution_count": 88,
   "id": "bc20ecf4",
   "metadata": {},
   "outputs": [
    {
     "data": {
      "text/plain": [
       "array([(0., 0., 0., 0., 0.), (0., 0., 0., 0., 0.), (0., 0., 0., 0., 0.),\n",
       "       (0., 0., 0., 0., 0.)],\n",
       "      dtype=[('x', '<f8'), ('y', '<f8'), ('r', '<f8'), ('g', '<f8'), ('b', '<f8')])"
      ]
     },
     "execution_count": 88,
     "metadata": {},
     "output_type": "execute_result"
    }
   ],
   "source": [
    "t=[('x','f8'),('y','f8'),('r','f8'),('g','f8'),('b','f8')]\n",
    "array= np.zeros((4,), dtype=t)\n",
    "array"
   ]
  },
  {
   "cell_type": "markdown",
   "id": "4621a6b5",
   "metadata": {},
   "source": [
    "37.How to convert a float (32 bits) array into an integer (32 bits) in place?"
   ]
  },
  {
   "cell_type": "code",
   "execution_count": 91,
   "id": "405c1935",
   "metadata": {},
   "outputs": [
    {
     "name": "stdout",
     "output_type": "stream",
     "text": [
      "[0.7059268  0.5411409  0.35555077 0.4270274  0.2487304 ]\n",
      "[0 0 0 0 0]\n"
     ]
    }
   ],
   "source": [
    "a=np.random.random(5).astype(np.float32)\n",
    "print(a)\n",
    "print(np.int32(a))"
   ]
  },
  {
   "cell_type": "markdown",
   "id": "7a97f668",
   "metadata": {},
   "source": [
    "38.Subtract the mean of each row of a matrix (★★☆)"
   ]
  },
  {
   "cell_type": "code",
   "execution_count": 96,
   "id": "e99755c8",
   "metadata": {},
   "outputs": [
    {
     "name": "stdout",
     "output_type": "stream",
     "text": [
      "[0.58656148 0.29210974 0.41249175 0.36388448 0.19029885 0.39286287\n",
      " 0.47232139 0.50568332 0.11339725 0.76562685 0.54162999 0.78507959\n",
      " 0.76793278 0.0343551  0.37363289 0.88180001 0.42283312 0.18392781\n",
      " 0.64401033 0.85145928 0.3784053  0.73603692 0.64779461 0.27291752\n",
      " 0.47339976 0.74753158 0.02566488 0.08493609 0.34837143 0.64218389]\n",
      "-----------------------------------------------------\n",
      "[ 0.12192345 -0.17252829 -0.05214628 -0.10075355 -0.27433918 -0.07177516\n",
      "  0.00768336  0.04104529 -0.35124078  0.30098882  0.07699196  0.32044157\n",
      "  0.30329475 -0.43028293 -0.09100514  0.41716198 -0.04180491 -0.28071022\n",
      "  0.17937231  0.38682125 -0.08623273  0.27139889  0.18315658 -0.19172051\n",
      "  0.00876173  0.28289355 -0.43897315 -0.37970194 -0.1162666   0.17754586]\n"
     ]
    }
   ],
   "source": [
    "a=np.random.random((30))\n",
    "print(a)\n",
    "print(\"-----------------------------------------------------\")\n",
    "a=a-a.mean()\n",
    "print(a)"
   ]
  },
  {
   "cell_type": "markdown",
   "id": "acc28419",
   "metadata": {},
   "source": [
    "39.How to sort an array by the nth column? (★★☆)"
   ]
  },
  {
   "cell_type": "code",
   "execution_count": 111,
   "id": "20e178cc",
   "metadata": {},
   "outputs": [
    {
     "name": "stdout",
     "output_type": "stream",
     "text": [
      "[[0.03319543 0.03550945 0.95403518 0.71628829]\n",
      " [0.45660167 0.1944746  0.69316732 0.75884816]\n",
      " [0.34141136 0.58059802 0.18458977 0.37264211]]\n",
      "---------------------------------------------------------\n",
      "[[0.34141136 0.58059802 0.18458977 0.37264211]\n",
      " [0.45660167 0.1944746  0.69316732 0.75884816]\n",
      " [0.03319543 0.03550945 0.95403518 0.71628829]]\n"
     ]
    }
   ],
   "source": [
    "a=np.random.random((3,4))\n",
    "print(a)\n",
    "print(\"---------------------------------------------------------\")\n",
    "a=a[a[:,2].argsort()]\n",
    "print(a)"
   ]
  },
  {
   "cell_type": "markdown",
   "id": "b3c03663",
   "metadata": {},
   "source": [
    "40.How to tell if a given 2D array has null columns? (★★☆)"
   ]
  },
  {
   "cell_type": "code",
   "execution_count": 114,
   "id": "d1d89874",
   "metadata": {},
   "outputs": [
    {
     "name": "stdout",
     "output_type": "stream",
     "text": [
      "[[0.30117569 0.82223328 0.15773083 0.18924318]\n",
      " [0.47761114 0.39440088 0.11116715 0.2639816 ]\n",
      " [0.87688402 0.94984902 0.65364862 0.61779876]]\n",
      "True\n"
     ]
    }
   ],
   "source": [
    "a=np.random.random((3,4))\n",
    "print(a)\n",
    "a=a.any(axis=0).any()\n",
    "print(a)"
   ]
  },
  {
   "cell_type": "markdown",
   "id": "93a42cd8",
   "metadata": {},
   "source": [
    "41.Find the nearest value from a given value in an array (★★☆)"
   ]
  },
  {
   "cell_type": "code",
   "execution_count": 115,
   "id": "187fb78b",
   "metadata": {},
   "outputs": [
    {
     "name": "stdout",
     "output_type": "stream",
     "text": [
      "0.8874796960972698\n"
     ]
    }
   ],
   "source": [
    "a=np.random.random((3,4))\n",
    "b=1\n",
    "a=a.flat[np.abs(a-b).argmin()]\n",
    "print(a)"
   ]
  },
  {
   "cell_type": "markdown",
   "id": "f9ed0ec8",
   "metadata": {},
   "source": [
    "42. Consider a given vector, how to add 1 to each element indexed by a second vector (be careful with repeated indices)? (★★★)"
   ]
  },
  {
   "cell_type": "code",
   "execution_count": 117,
   "id": "27a31305",
   "metadata": {},
   "outputs": [
    {
     "name": "stdout",
     "output_type": "stream",
     "text": [
      "[[0.15903247 0.73079541 0.61685985 0.58631921]\n",
      " [0.04879246 0.74152749 0.06831738 0.74642379]\n",
      " [0.99007788 0.94093376 0.43967518 0.93882239]]\n",
      "----------------------------------------------------\n",
      "[[1.15903247 1.73079541 1.61685985 1.58631921]\n",
      " [1.04879246 1.74152749 1.06831738 1.74642379]\n",
      " [1.99007788 1.94093376 1.43967518 1.93882239]]\n"
     ]
    }
   ],
   "source": [
    "a=np.random.random((3,4))\n",
    "print(a)\n",
    "print(\"----------------------------------------------------\")\n",
    "a=a+1\n",
    "print(a)"
   ]
  },
  {
   "cell_type": "markdown",
   "id": "0480f51f",
   "metadata": {},
   "source": [
    "43.Considering a four dimensions array, how to get sum over the last two axis at once? (★★★)"
   ]
  },
  {
   "cell_type": "code",
   "execution_count": 124,
   "id": "a013559e",
   "metadata": {},
   "outputs": [
    {
     "name": "stdout",
     "output_type": "stream",
     "text": [
      "[[0.18994378 0.39501406 0.72631033 0.03195177]\n",
      " [0.05923355 0.44484858 0.34904475 0.87208951]\n",
      " [0.98394663 0.92266435 0.68202218 0.95746364]\n",
      " [0.51834025 0.06338577 0.29226477 0.42666298]]\n",
      "---------------------------------------------------\n",
      "7.915186909351133\n"
     ]
    }
   ],
   "source": [
    "a=np.random.random((4,4))\n",
    "print(a)\n",
    "print(\"---------------------------------------------------\")\n",
    "a=a.reshape(a.shape[:-2] + (-1,)).sum(axis=-1)\n",
    "print(a)"
   ]
  },
  {
   "cell_type": "markdown",
   "id": "82d76b92",
   "metadata": {},
   "source": [
    "44.How to get the diagonal of a dot product? (★★★)"
   ]
  },
  {
   "cell_type": "code",
   "execution_count": 127,
   "id": "7980123e",
   "metadata": {},
   "outputs": [
    {
     "name": "stdout",
     "output_type": "stream",
     "text": [
      "[[0.92922408 0.71204841 0.07302228]\n",
      " [0.95468681 0.87119891 0.96756974]\n",
      " [0.11857297 0.33157283 0.9755987 ]]\n",
      "-------------------------------------\n",
      "[[0.61437621 0.66915873 0.26131381]\n",
      " [0.46776907 0.41681744 0.14028455]\n",
      " [0.39128307 0.12106107 0.79932294]]\n",
      "---------------------------------------\n",
      "[0.93253977 1.11910293 0.85731772]\n"
     ]
    }
   ],
   "source": [
    "a=np.random.random((3,3))\n",
    "print(a)\n",
    "print(\"-------------------------------------\")\n",
    "b=np.random.random((3,3))\n",
    "print(b)\n",
    "print(\"---------------------------------------\")\n",
    "c=np.diag(np.dot(a,b))\n",
    "print(c)\n"
   ]
  },
  {
   "cell_type": "markdown",
   "id": "6744759d",
   "metadata": {},
   "source": [
    "45.How to swap two rows of an array? (★★★)"
   ]
  },
  {
   "cell_type": "code",
   "execution_count": 130,
   "id": "2bb5078b",
   "metadata": {},
   "outputs": [
    {
     "name": "stdout",
     "output_type": "stream",
     "text": [
      "[[0.7533652  0.18743769 0.23351574]\n",
      " [0.51887    0.35380824 0.5832234 ]\n",
      " [0.24041405 0.0517159  0.09079448]]\n",
      "-------------------------------------\n",
      "[[0.51887    0.35380824 0.5832234 ]\n",
      " [0.7533652  0.18743769 0.23351574]\n",
      " [0.24041405 0.0517159  0.09079448]]\n"
     ]
    }
   ],
   "source": [
    "a=np.random.random((3,3))\n",
    "print(a)\n",
    "print(\"-------------------------------------\")\n",
    "a[[0,1]]=a[[1,0]]\n",
    "print(a)"
   ]
  },
  {
   "cell_type": "markdown",
   "id": "f5282fe3",
   "metadata": {},
   "source": [
    "46.How to find the most frequent value in an array?"
   ]
  },
  {
   "cell_type": "code",
   "execution_count": 134,
   "id": "61d04144",
   "metadata": {},
   "outputs": [
    {
     "name": "stdout",
     "output_type": "stream",
     "text": [
      "[ 8 13  8  1  3 11  5  0 11 12  7  4 12  9  6 12  5  1 12  2 12  7 13  1\n",
      " 11  9  2  1  2  9 13 11 12 14  1 13  5 10  5 10  6 10 10  7  6  5  5 14\n",
      " 13  0]\n",
      "------------------------------------------\n",
      "5\n"
     ]
    }
   ],
   "source": [
    "a= np.random.randint(0,15,50)\n",
    "print (a)\n",
    "print(\"------------------------------------------\")\n",
    "a=np.bincount(a).argmax()\n",
    "print(a)"
   ]
  },
  {
   "cell_type": "markdown",
   "id": "71fdc39b",
   "metadata": {},
   "source": [
    "47.Compute a matrix rank (★★★)"
   ]
  },
  {
   "cell_type": "code",
   "execution_count": 135,
   "id": "e129c8c4",
   "metadata": {},
   "outputs": [
    {
     "name": "stdout",
     "output_type": "stream",
     "text": [
      "[[1. 0. 0. 0. 0.]\n",
      " [0. 1. 0. 0. 0.]\n",
      " [0. 0. 1. 0. 0.]\n",
      " [0. 0. 0. 1. 0.]\n",
      " [0. 0. 0. 0. 1.]]\n",
      "-------------------------------------\n"
     ]
    },
    {
     "data": {
      "text/plain": [
       "5"
      ]
     },
     "execution_count": 135,
     "metadata": {},
     "output_type": "execute_result"
    }
   ],
   "source": [
    "from numpy.linalg import matrix_rank\n",
    "print(np.eye(5))\n",
    "print(\"-------------------------------------\")\n",
    "matrix_rank(np.eye(5))"
   ]
  },
  {
   "cell_type": "markdown",
   "id": "b7d46601",
   "metadata": {},
   "source": [
    "48.Consider an array Z = [1,2,3,4,5,6,7,8,9,10,11,12,13,14], how to generate an array R = [[1,2,3,4], [2,3,4,5], [3,4,5,6], ..., [11,12,13,14]]? (★★★)"
   ]
  },
  {
   "cell_type": "code",
   "execution_count": 142,
   "id": "fb259a45",
   "metadata": {},
   "outputs": [
    {
     "name": "stdout",
     "output_type": "stream",
     "text": [
      "[ 1  2  3  4  5  6  7  8  9 10 11 12 13 14]\n",
      "---------------------------------------------\n",
      "[[ 1  2  3  4]\n",
      " [ 2  3  4  5]\n",
      " [ 3  4  5  6]\n",
      " [ 4  5  6  7]\n",
      " [ 5  6  7  8]\n",
      " [ 6  7  8  9]\n",
      " [ 7  8  9 10]\n",
      " [ 8  9 10 11]\n",
      " [ 9 10 11 12]\n",
      " [10 11 12 13]\n",
      " [11 12 13 14]]\n"
     ]
    }
   ],
   "source": [
    "a=np.arange(1,15,dtype=int)\n",
    "print(a)\n",
    "print(\"---------------------------------------------\")\n",
    "a=np.lib.stride_tricks.as_strided(a,(11,4),(4,4))\n",
    "print(a)"
   ]
  },
  {
   "cell_type": "markdown",
   "id": "d6593879",
   "metadata": {},
   "source": [
    "49. Consider a 16x16 array, how to get the block-sum (block size is 4x4)? (★★★)"
   ]
  },
  {
   "cell_type": "code",
   "execution_count": 146,
   "id": "05b5742d",
   "metadata": {},
   "outputs": [
    {
     "name": "stdout",
     "output_type": "stream",
     "text": [
      "[[1. 1. 1. 1. 1. 1. 1. 1. 1. 1. 1. 1. 1. 1. 1. 1.]\n",
      " [1. 1. 1. 1. 1. 1. 1. 1. 1. 1. 1. 1. 1. 1. 1. 1.]\n",
      " [1. 1. 1. 1. 1. 1. 1. 1. 1. 1. 1. 1. 1. 1. 1. 1.]\n",
      " [1. 1. 1. 1. 1. 1. 1. 1. 1. 1. 1. 1. 1. 1. 1. 1.]\n",
      " [1. 1. 1. 1. 1. 1. 1. 1. 1. 1. 1. 1. 1. 1. 1. 1.]\n",
      " [1. 1. 1. 1. 1. 1. 1. 1. 1. 1. 1. 1. 1. 1. 1. 1.]\n",
      " [1. 1. 1. 1. 1. 1. 1. 1. 1. 1. 1. 1. 1. 1. 1. 1.]\n",
      " [1. 1. 1. 1. 1. 1. 1. 1. 1. 1. 1. 1. 1. 1. 1. 1.]\n",
      " [1. 1. 1. 1. 1. 1. 1. 1. 1. 1. 1. 1. 1. 1. 1. 1.]\n",
      " [1. 1. 1. 1. 1. 1. 1. 1. 1. 1. 1. 1. 1. 1. 1. 1.]\n",
      " [1. 1. 1. 1. 1. 1. 1. 1. 1. 1. 1. 1. 1. 1. 1. 1.]\n",
      " [1. 1. 1. 1. 1. 1. 1. 1. 1. 1. 1. 1. 1. 1. 1. 1.]\n",
      " [1. 1. 1. 1. 1. 1. 1. 1. 1. 1. 1. 1. 1. 1. 1. 1.]\n",
      " [1. 1. 1. 1. 1. 1. 1. 1. 1. 1. 1. 1. 1. 1. 1. 1.]\n",
      " [1. 1. 1. 1. 1. 1. 1. 1. 1. 1. 1. 1. 1. 1. 1. 1.]\n",
      " [1. 1. 1. 1. 1. 1. 1. 1. 1. 1. 1. 1. 1. 1. 1. 1.]]\n",
      "-------------------------------------------------------------\n",
      "[[16. 16. 16. 16.]\n",
      " [16. 16. 16. 16.]\n",
      " [16. 16. 16. 16.]\n",
      " [16. 16. 16. 16.]]\n"
     ]
    }
   ],
   "source": [
    "a=np.ones((16,16))\n",
    "print(a)\n",
    "print(\"-------------------------------------------------------------\")\n",
    "a=np.add.reduce(a).reshape(4,4)\n",
    "print(a)"
   ]
  },
  {
   "cell_type": "markdown",
   "id": "4bb024f4",
   "metadata": {},
   "source": [
    "50.How to get the n largest values of an array (★★★)"
   ]
  },
  {
   "cell_type": "code",
   "execution_count": 153,
   "id": "a477443d",
   "metadata": {},
   "outputs": [
    {
     "name": "stdout",
     "output_type": "stream",
     "text": [
      "[ 0  1  2  3  4  5  6  7  8  9 10 11 12 13 14 15 16 17 18 19 20 21 22 23\n",
      " 24 25 26 27 28 29 30 31 32 33 34 35 36 37 38 39 40 41 42 43 44 45 46 47\n",
      " 48 49 50 51 52 53 54 55 56 57 58 59 60 61 62 63 64 65 66 67 68 69 70 71\n",
      " 72 73 74 75 76 77 78 79 80 81 82 83 84 85 86 87 88 89 90 91 92 93 94 95\n",
      " 96 97 98 99]\n",
      "-------------------------------------------------------------\n",
      "[97 98 99]\n"
     ]
    }
   ],
   "source": [
    "a=np.arange(100)\n",
    "print(a)\n",
    "print(\"-------------------------------------------------------------\")\n",
    "n=3\n",
    "a=a[-n:]\n",
    "print(a)"
   ]
  },
  {
   "cell_type": "markdown",
   "id": "01dc0013",
   "metadata": {},
   "source": [
    "51.How to create a record array from a regular array? (★★★)"
   ]
  },
  {
   "cell_type": "code",
   "execution_count": 159,
   "id": "926bc633",
   "metadata": {},
   "outputs": [
    {
     "name": "stdout",
     "output_type": "stream",
     "text": [
      "[['Bushra' '8']\n",
      " ['priya' '8']]\n",
      "-----------------------------------------\n",
      "[(b'Bushra', 8) (b'priya', 8)]\n"
     ]
    }
   ],
   "source": [
    "a=np.array([(\"Bushra\",8),(\"priya\",8)])\n",
    "print(a)\n",
    "print(\"-----------------------------------------\")\n",
    "a=np.core.records.fromarrays(a.T,\n",
    "                    \n",
    "names='col1,col2',\n",
    "formats='S8,i8')\n",
    "print(a)"
   ]
  },
  {
   "cell_type": "markdown",
   "id": "89248adf",
   "metadata": {},
   "source": [
    "52.Consider a large vector Z, compute Z to the power of 3 using 3 different methods (★★★)"
   ]
  },
  {
   "cell_type": "code",
   "execution_count": 160,
   "id": "9ae7c2ba",
   "metadata": {},
   "outputs": [
    {
     "name": "stdout",
     "output_type": "stream",
     "text": [
      "3.44 s ± 126 ms per loop (mean ± std. dev. of 7 runs, 1 loop each)\n",
      "587 ms ± 105 ms per loop (mean ± std. dev. of 7 runs, 1 loop each)\n",
      "357 ms ± 36.7 ms per loop (mean ± std. dev. of 7 runs, 1 loop each)\n"
     ]
    }
   ],
   "source": [
    "a = np.random.rand(int(5e7))\n",
    "\n",
    "%timeit np.power(a,3)\n",
    "%timeit a*a*a\n",
    "%timeit np.einsum('i,i,i->i',a,a,a)"
   ]
  },
  {
   "cell_type": "markdown",
   "id": "9d93276f",
   "metadata": {},
   "source": [
    "53.Make an array immutable (read-only) (★★☆)"
   ]
  },
  {
   "cell_type": "code",
   "execution_count": 161,
   "id": "dd469787",
   "metadata": {},
   "outputs": [
    {
     "ename": "ValueError",
     "evalue": "assignment destination is read-only",
     "output_type": "error",
     "traceback": [
      "\u001b[1;31m---------------------------------------------------------------------------\u001b[0m",
      "\u001b[1;31mValueError\u001b[0m                                Traceback (most recent call last)",
      "\u001b[1;32m~\\AppData\\Local\\Temp/ipykernel_13232/2275931711.py\u001b[0m in \u001b[0;36m<module>\u001b[1;34m\u001b[0m\n\u001b[0;32m      1\u001b[0m \u001b[0ma\u001b[0m \u001b[1;33m=\u001b[0m \u001b[0mnp\u001b[0m\u001b[1;33m.\u001b[0m\u001b[0mzeros\u001b[0m\u001b[1;33m(\u001b[0m\u001b[1;36m10\u001b[0m\u001b[1;33m)\u001b[0m\u001b[1;33m\u001b[0m\u001b[1;33m\u001b[0m\u001b[0m\n\u001b[0;32m      2\u001b[0m \u001b[0ma\u001b[0m\u001b[1;33m.\u001b[0m\u001b[0mflags\u001b[0m\u001b[1;33m.\u001b[0m\u001b[0mwriteable\u001b[0m \u001b[1;33m=\u001b[0m \u001b[1;32mFalse\u001b[0m\u001b[1;33m\u001b[0m\u001b[1;33m\u001b[0m\u001b[0m\n\u001b[1;32m----> 3\u001b[1;33m \u001b[0ma\u001b[0m\u001b[1;33m[\u001b[0m\u001b[1;36m0\u001b[0m\u001b[1;33m]\u001b[0m \u001b[1;33m=\u001b[0m \u001b[1;36m1\u001b[0m\u001b[1;33m\u001b[0m\u001b[1;33m\u001b[0m\u001b[0m\n\u001b[0m",
      "\u001b[1;31mValueError\u001b[0m: assignment destination is read-only"
     ]
    }
   ],
   "source": [
    "a = np.zeros(10)\n",
    "a.flags.writeable = False\n",
    "a[0] = 1"
   ]
  },
  {
   "cell_type": "markdown",
   "id": "f093f05c",
   "metadata": {},
   "source": [
    "54.Consider a random 10x2 matrix representing cartesian coordinates, convert them to polar coordinates (★★☆)"
   ]
  },
  {
   "cell_type": "code",
   "execution_count": 164,
   "id": "c4c0ae6b",
   "metadata": {},
   "outputs": [
    {
     "name": "stdout",
     "output_type": "stream",
     "text": [
      "[0.52024631 0.41184723 0.53077488 1.24560387 0.91132645 0.18008298\n",
      " 0.94729519 0.78614367 0.72674034 0.76087412]\n",
      "[0.11027067 1.55454981 1.06215885 0.84880769 0.49987853 0.37325067\n",
      " 0.42055357 0.79039873 1.35598494 0.99323025]\n"
     ]
    }
   ],
   "source": [
    "a= np.random.random((10,2))\n",
    "x=a[:,0]\n",
    "y=a[:,1]\n",
    "s=np.sqrt(x**2+y**2)\n",
    "print(s)\n",
    "k=np.arctan2(y,x)\n",
    "print(k)"
   ]
  },
  {
   "cell_type": "markdown",
   "id": "0941d1df",
   "metadata": {},
   "source": [
    "55.Create a structured array with x and y coordinates covering the [0,1]x[0,1] area (★★☆)"
   ]
  },
  {
   "cell_type": "code",
   "execution_count": 168,
   "id": "5e1c0c9f",
   "metadata": {},
   "outputs": [
    {
     "name": "stdout",
     "output_type": "stream",
     "text": [
      "[[(0.        , 0.) (0.11111111, 0.) (0.22222222, 0.) (0.33333333, 0.)\n",
      "  (0.44444444, 0.) (0.55555556, 0.) (0.66666667, 0.) (0.77777778, 0.)\n",
      "  (0.88888889, 0.) (1.        , 0.)]\n",
      " [(0.        , 0.) (0.11111111, 0.) (0.22222222, 0.) (0.33333333, 0.)\n",
      "  (0.44444444, 0.) (0.55555556, 0.) (0.66666667, 0.) (0.77777778, 0.)\n",
      "  (0.88888889, 0.) (1.        , 0.)]\n",
      " [(0.        , 0.) (0.11111111, 0.) (0.22222222, 0.) (0.33333333, 0.)\n",
      "  (0.44444444, 0.) (0.55555556, 0.) (0.66666667, 0.) (0.77777778, 0.)\n",
      "  (0.88888889, 0.) (1.        , 0.)]\n",
      " [(0.        , 0.) (0.11111111, 0.) (0.22222222, 0.) (0.33333333, 0.)\n",
      "  (0.44444444, 0.) (0.55555556, 0.) (0.66666667, 0.) (0.77777778, 0.)\n",
      "  (0.88888889, 0.) (1.        , 0.)]\n",
      " [(0.        , 0.) (0.11111111, 0.) (0.22222222, 0.) (0.33333333, 0.)\n",
      "  (0.44444444, 0.) (0.55555556, 0.) (0.66666667, 0.) (0.77777778, 0.)\n",
      "  (0.88888889, 0.) (1.        , 0.)]\n",
      " [(0.        , 0.) (0.11111111, 0.) (0.22222222, 0.) (0.33333333, 0.)\n",
      "  (0.44444444, 0.) (0.55555556, 0.) (0.66666667, 0.) (0.77777778, 0.)\n",
      "  (0.88888889, 0.) (1.        , 0.)]\n",
      " [(0.        , 0.) (0.11111111, 0.) (0.22222222, 0.) (0.33333333, 0.)\n",
      "  (0.44444444, 0.) (0.55555556, 0.) (0.66666667, 0.) (0.77777778, 0.)\n",
      "  (0.88888889, 0.) (1.        , 0.)]\n",
      " [(0.        , 0.) (0.11111111, 0.) (0.22222222, 0.) (0.33333333, 0.)\n",
      "  (0.44444444, 0.) (0.55555556, 0.) (0.66666667, 0.) (0.77777778, 0.)\n",
      "  (0.88888889, 0.) (1.        , 0.)]\n",
      " [(0.        , 0.) (0.11111111, 0.) (0.22222222, 0.) (0.33333333, 0.)\n",
      "  (0.44444444, 0.) (0.55555556, 0.) (0.66666667, 0.) (0.77777778, 0.)\n",
      "  (0.88888889, 0.) (1.        , 0.)]\n",
      " [(0.        , 0.) (0.11111111, 0.) (0.22222222, 0.) (0.33333333, 0.)\n",
      "  (0.44444444, 0.) (0.55555556, 0.) (0.66666667, 0.) (0.77777778, 0.)\n",
      "  (0.88888889, 0.) (1.        , 0.)]]\n"
     ]
    }
   ],
   "source": [
    "a = np.zeros((10,10), [('x',float),('y',float)])\n",
    "a['x'], Z['y'] = np.meshgrid(np.linspace(0,1,10),\n",
    "np.linspace(0,1,10))\n",
    "print(a)"
   ]
  },
  {
   "cell_type": "markdown",
   "id": "8f78989b",
   "metadata": {},
   "source": [
    "56.Given two arrays, X and Y, construct the Cauchy matrix C (Cij =1/(xi - yj)) (★★☆)"
   ]
  },
  {
   "cell_type": "code",
   "execution_count": 169,
   "id": "cc20fca0",
   "metadata": {},
   "outputs": [
    {
     "ename": "SyntaxError",
     "evalue": "unexpected EOF while parsing (Temp/ipykernel_13232/1660820447.py, line 4)",
     "output_type": "error",
     "traceback": [
      "\u001b[1;36m  File \u001b[1;32m\"C:\\Users\\Asus\\AppData\\Local\\Temp/ipykernel_13232/1660820447.py\"\u001b[1;36m, line \u001b[1;32m4\u001b[0m\n\u001b[1;33m    print(np.linalg.det(C)\u001b[0m\n\u001b[1;37m                          ^\u001b[0m\n\u001b[1;31mSyntaxError\u001b[0m\u001b[1;31m:\u001b[0m unexpected EOF while parsing\n"
     ]
    }
   ],
   "source": [
    "X = np.arange(10)\n",
    "Y = X + 0.5\n",
    "C = 1.0 / np.subtract.outer(X, Y)\n",
    "print(np.linalg.det(C)"
   ]
  },
  {
   "cell_type": "markdown",
   "id": "820379eb",
   "metadata": {},
   "source": [
    "57.Print the minimum and maximum representable value for each numpy scalar type (★★☆)"
   ]
  },
  {
   "cell_type": "code",
   "execution_count": 171,
   "id": "5f8819a4",
   "metadata": {},
   "outputs": [
    {
     "name": "stdout",
     "output_type": "stream",
     "text": [
      "-128\n",
      "127\n",
      "-2147483648\n",
      "2147483647\n",
      "-9223372036854775808\n",
      "9223372036854775807\n",
      "-3.4028235e+38\n",
      "3.4028235e+38\n",
      "1.1920929e-07\n",
      "-1.7976931348623157e+308\n",
      "1.7976931348623157e+308\n",
      "2.220446049250313e-16\n"
     ]
    }
   ],
   "source": [
    "for dtype in [np.int8, np.int32, np.int64]:\n",
    "    print(np.iinfo(dtype).min)\n",
    "    print(np.iinfo(dtype).max)\n",
    "for dtype in [np.float32, np.float64]:\n",
    "    print(np.finfo(dtype).min)\n",
    "    print(np.finfo(dtype).max)\n",
    "    print(np.finfo(dtype).eps)"
   ]
  },
  {
   "cell_type": "markdown",
   "id": "3f2dcb69",
   "metadata": {},
   "source": [
    "58.How to find the closest value (to a given scalar) in a vector? (★★☆)"
   ]
  },
  {
   "cell_type": "code",
   "execution_count": 175,
   "id": "ecf89fe5",
   "metadata": {},
   "outputs": [
    {
     "name": "stdout",
     "output_type": "stream",
     "text": [
      "[ 0  1  2  3  4  5  6  7  8  9 10 11 12 13 14 15 16 17 18 19 20 21 22 23\n",
      " 24 25 26 27 28 29 30 31 32 33 34 35 36 37 38 39 40 41 42 43 44 45 46 47\n",
      " 48 49 50 51 52 53 54 55 56 57 58 59 60 61 62 63 64 65 66 67 68 69 70 71\n",
      " 72 73 74 75 76 77 78 79 80 81 82 83 84 85 86 87 88 89 90 91 92 93 94 95\n",
      " 96 97 98 99]\n",
      "-----------------------------------\n",
      "41.18540804446447\n",
      "------------------------------------\n",
      "41\n"
     ]
    }
   ],
   "source": [
    "a=np.arange(100)\n",
    "print(a)\n",
    "print(\"-----------------------------------\")\n",
    "b=np.random.uniform(0,100)\n",
    "print(b)\n",
    "print(\"------------------------------------\")\n",
    "c=(np.abs(a-b)).argmin()\n",
    "print(c)"
   ]
  },
  {
   "cell_type": "markdown",
   "id": "deaa01d8",
   "metadata": {},
   "source": [
    "59.How to tell if a given 2D array has null columns? (★★☆)"
   ]
  },
  {
   "cell_type": "code",
   "execution_count": 178,
   "id": "8d957c81",
   "metadata": {},
   "outputs": [
    {
     "name": "stdout",
     "output_type": "stream",
     "text": [
      "True\n"
     ]
    }
   ],
   "source": [
    "a=np.random.randint(0,3,(3,20))\n",
    "print((a.any(axis=0)).any())"
   ]
  },
  {
   "cell_type": "markdown",
   "id": "1a1dce10",
   "metadata": {},
   "source": [
    "60.How to accumulate elements of a vector (X) to an array (F) based on an index list (I)? (★★★)"
   ]
  },
  {
   "cell_type": "code",
   "execution_count": 179,
   "id": "8930c117",
   "metadata": {},
   "outputs": [
    {
     "name": "stdout",
     "output_type": "stream",
     "text": [
      "[0. 1. 0. 4. 5. 0. 0. 3. 2. 6.]\n"
     ]
    }
   ],
   "source": [
    "X = [1,2,3,4,5,6]\n",
    "I = [1,8,7,3,4,9]\n",
    "F = np.bincount(I,X)\n",
    "print(F)"
   ]
  },
  {
   "cell_type": "code",
   "execution_count": null,
   "id": "51df5b21",
   "metadata": {},
   "outputs": [],
   "source": []
  }
 ],
 "metadata": {
  "kernelspec": {
   "display_name": "Python 3 (ipykernel)",
   "language": "python",
   "name": "python3"
  },
  "language_info": {
   "codemirror_mode": {
    "name": "ipython",
    "version": 3
   },
   "file_extension": ".py",
   "mimetype": "text/x-python",
   "name": "python",
   "nbconvert_exporter": "python",
   "pygments_lexer": "ipython3",
   "version": "3.9.7"
  }
 },
 "nbformat": 4,
 "nbformat_minor": 5
}
