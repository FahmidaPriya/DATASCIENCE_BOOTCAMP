{
 "cells": [
  {
   "cell_type": "markdown",
   "id": "ed0c715e",
   "metadata": {},
   "source": [
    "**1000**"
   ]
  },
  {
   "cell_type": "code",
   "execution_count": null,
   "id": "8644ee92",
   "metadata": {},
   "outputs": [],
   "source": [
    "print(\"Hello World!\")"
   ]
  },
  {
   "cell_type": "markdown",
   "id": "9785b8aa",
   "metadata": {},
   "source": [
    "**1001**"
   ]
  },
  {
   "cell_type": "code",
   "execution_count": null,
   "id": "cd83b6e0",
   "metadata": {},
   "outputs": [],
   "source": [
    "a = int(input())\n",
    "b = int(input())\n",
    "X = a+b\n",
    "print(\"X = %i\"%X)\n",
    "\n",
    "\n"
   ]
  },
  {
   "cell_type": "markdown",
   "id": "0f0d01ab",
   "metadata": {},
   "source": [
    "**1002**"
   ]
  },
  {
   "cell_type": "code",
   "execution_count": null,
   "id": "411f462d",
   "metadata": {},
   "outputs": [],
   "source": [
    "import math\n",
    "π = 3.14159\n",
    "n = float(input())\n",
    "A= π*(math.pow(n,2))\n",
    "print(\"A=%0.4f\"%A)\n"
   ]
  },
  {
   "cell_type": "markdown",
   "id": "24a8bb52",
   "metadata": {},
   "source": [
    "**1003**"
   ]
  },
  {
   "cell_type": "code",
   "execution_count": null,
   "id": "964ac338",
   "metadata": {},
   "outputs": [],
   "source": [
    "a = int(input())\n",
    "b = int(input())\n",
    "X = a+b\n",
    "print(\"SOMA = %i\"%X)"
   ]
  },
  {
   "cell_type": "markdown",
   "id": "2733b62d",
   "metadata": {},
   "source": [
    "**1004**"
   ]
  },
  {
   "cell_type": "code",
   "execution_count": null,
   "id": "f6a9f555",
   "metadata": {},
   "outputs": [],
   "source": [
    "a = int(input())\n",
    "b = int(input())\n",
    "X = a*b\n",
    "print(\"PROD = %i\"%X)"
   ]
  },
  {
   "cell_type": "markdown",
   "id": "b46a463a",
   "metadata": {},
   "source": [
    "**1005**"
   ]
  },
  {
   "cell_type": "code",
   "execution_count": null,
   "id": "f93f361f",
   "metadata": {},
   "outputs": [],
   "source": [
    "a = float(input())\n",
    "b = float(input())\n",
    "X = float(((a*3.5)+(b*7.5))/(3.5+7.5))\n",
    "print(\"MEDIA = %.5f\"%X)"
   ]
  },
  {
   "cell_type": "markdown",
   "id": "9bcdda56",
   "metadata": {},
   "source": [
    "**1006**"
   ]
  },
  {
   "cell_type": "code",
   "execution_count": null,
   "id": "e3346ef0",
   "metadata": {},
   "outputs": [],
   "source": [
    "a = float(input())\n",
    "b = float(input())\n",
    "c = float(input())\n",
    "X = float(((a*2)+(b*3)+(c*5))/(2+3+5))\n",
    "print(\"MEDIA = %.1f\"%X)"
   ]
  },
  {
   "cell_type": "markdown",
   "id": "133695b9",
   "metadata": {},
   "source": [
    "**1007**"
   ]
  },
  {
   "cell_type": "code",
   "execution_count": null,
   "id": "a8e786e4",
   "metadata": {},
   "outputs": [],
   "source": [
    "a = int(input())\n",
    "b = int(input())\n",
    "c = int(input())\n",
    "d = int(input())\n",
    "X=(a*b)-(c*d)\n",
    "print(\"DIFERENCA = %i\"%X)"
   ]
  },
  {
   "cell_type": "markdown",
   "id": "9d6debb7",
   "metadata": {},
   "source": [
    "**1008**"
   ]
  },
  {
   "cell_type": "code",
   "execution_count": null,
   "id": "5ecbb5a8",
   "metadata": {},
   "outputs": [],
   "source": [
    "a=int(input())\n",
    "b=int(input())\n",
    "c=float(input())\n",
    "x=float(b*c)\n",
    "print(\"NUMBER = %i\"%a)\n",
    "print(\"SALARY = U$ %.2f\"%x)"
   ]
  },
  {
   "cell_type": "markdown",
   "id": "62a935b3",
   "metadata": {},
   "source": [
    "**1009**"
   ]
  },
  {
   "cell_type": "code",
   "execution_count": null,
   "id": "98374cc8",
   "metadata": {},
   "outputs": [],
   "source": [
    "a=str(input())\n",
    "b=float(input())\n",
    "c=float(input())\n",
    "x=float(b+(c*0.15))\n",
    "print(\"TOTAL = R$ %.2f\"%x)"
   ]
  },
  {
   "cell_type": "markdown",
   "id": "c6bfa0df",
   "metadata": {},
   "source": [
    "**1010**"
   ]
  },
  {
   "cell_type": "code",
   "execution_count": null,
   "id": "1338af2c",
   "metadata": {},
   "outputs": [],
   "source": [
    "a=int(input())\n",
    "b=int(input())\n",
    "c=float(input())\n",
    "d=int(input())\n",
    "e=int(input())\n",
    "f=float(input())\n",
    "x=float((b*c)+(e*f))\n",
    "print(\"VALOR A PAGAR: R$ %0.2f\"%x)\n",
    "    "
   ]
  },
  {
   "cell_type": "markdown",
   "id": "f14f4d19",
   "metadata": {},
   "source": [
    "**1011**"
   ]
  },
  {
   "cell_type": "code",
   "execution_count": null,
   "id": "467a0ec5",
   "metadata": {},
   "outputs": [],
   "source": [
    "import math\n",
    "π = 3.14159\n",
    "n = int(input())\n",
    "A= (4/3)*π*(math.pow(n,3))\n",
    "print(\"VOLUME = %0.3f\"%A)"
   ]
  },
  {
   "cell_type": "markdown",
   "id": "1e6a5077",
   "metadata": {},
   "source": [
    "**1012**"
   ]
  },
  {
   "cell_type": "code",
   "execution_count": null,
   "id": "fd4aa2f7",
   "metadata": {},
   "outputs": [],
   "source": [
    "import math\n",
    "π = 3.14159\n",
    "a=float(input())\n",
    "b=float(input())\n",
    "c=float(input())\n",
    "t=(1/2)*a*c\n",
    "rc=π*(math.pow(c,2))\n",
    "trp=(1/2)*(a+b)*c\n",
    "sq=b*b\n",
    "ract=a*b\n",
    "print(\"TRIANGULO: %.3f\"%t)\n",
    "print(\"CIRCULO: %.3f\"%rc)\n",
    "print(\"TRAPEZIO: %.3f\"%trp)\n",
    "print(\"QUADRADO: %.3f\"%sq)\n",
    "print(\"RETANGULO: %.3f\"%ract)"
   ]
  },
  {
   "cell_type": "markdown",
   "id": "2917ecc3",
   "metadata": {},
   "source": [
    "**1013**"
   ]
  },
  {
   "cell_type": "code",
   "execution_count": 2,
   "id": "a3e6229c",
   "metadata": {},
   "outputs": [
    {
     "name": "stdout",
     "output_type": "stream",
     "text": [
      "7 4 106\n",
      "106 eh o maior\n"
     ]
    }
   ],
   "source": [
    "import math\n",
    "a,b,c=map(int,input().split())\n",
    "m=(int(a) + int(b) + abs(int(a) - int(b)))  / 2\n",
    "x=(int(m)+int(c)+ abs(int(m)-int(c)))/2\n",
    "print(\"%i eh o maior\"%x)"
   ]
  },
  {
   "cell_type": "markdown",
   "id": "be3df972",
   "metadata": {},
   "source": [
    "**1014**"
   ]
  },
  {
   "cell_type": "code",
   "execution_count": null,
   "id": "a8036e42",
   "metadata": {},
   "outputs": [],
   "source": [
    "a=int(input())\n",
    "b=float(input())\n",
    "x=a/b\n",
    "print(\"%.3f km/l\"%x)"
   ]
  },
  {
   "cell_type": "markdown",
   "id": "3d2baf92",
   "metadata": {},
   "source": [
    "**1015**"
   ]
  },
  {
   "cell_type": "code",
   "execution_count": 12,
   "id": "8b7826ba",
   "metadata": {},
   "outputs": [
    {
     "name": "stdout",
     "output_type": "stream",
     "text": [
      "1.0 7.0\n",
      "5.0 9.0\n",
      "4.472\n"
     ]
    }
   ],
   "source": [
    "import math\n",
    "x1,y1=list(map(float,input().split()))\n",
    "x2,y2=list(map(float,input().split()))\n",
    "x=math.sqrt(pow((x2-x1),2)+pow((y2-y1),2))\n",
    "print(\"%.3f\"%x)"
   ]
  },
  {
   "cell_type": "markdown",
   "id": "7287ea16",
   "metadata": {},
   "source": [
    "**1016**"
   ]
  },
  {
   "cell_type": "code",
   "execution_count": 13,
   "id": "51418a35",
   "metadata": {},
   "outputs": [
    {
     "name": "stdout",
     "output_type": "stream",
     "text": [
      "30\n",
      "60 minutos\n"
     ]
    }
   ],
   "source": [
    "a=int(input())\n",
    "x=a*2\n",
    "print(\"%i minutos\"%x)"
   ]
  },
  {
   "cell_type": "markdown",
   "id": "9c8ea632",
   "metadata": {},
   "source": [
    "**1017**"
   ]
  },
  {
   "cell_type": "code",
   "execution_count": 14,
   "id": "962d984e",
   "metadata": {},
   "outputs": [
    {
     "name": "stdout",
     "output_type": "stream",
     "text": [
      "10\n",
      "85\n",
      "70.833\n"
     ]
    }
   ],
   "source": [
    "a=int(input())\n",
    "b=int(input())\n",
    "x=(a*b)/12.00\n",
    "print(\"%.3f\"%x)"
   ]
  },
  {
   "cell_type": "markdown",
   "id": "f386787a",
   "metadata": {},
   "source": [
    "**1019**"
   ]
  },
  {
   "cell_type": "code",
   "execution_count": 26,
   "id": "182422da",
   "metadata": {},
   "outputs": [
    {
     "name": "stdout",
     "output_type": "stream",
     "text": [
      "556\n",
      "0:9:16\n"
     ]
    }
   ],
   "source": [
    "s=int(input())\n",
    "m=int(s/60)\n",
    "s=s-m*60\n",
    "h=int(m/60)\n",
    "m=m-h*60\n",
    "print(f'{h}:{m}:{s}')"
   ]
  },
  {
   "cell_type": "markdown",
   "id": "25363af8",
   "metadata": {},
   "source": [
    "**1020**"
   ]
  },
  {
   "cell_type": "code",
   "execution_count": 27,
   "id": "0963646f",
   "metadata": {},
   "outputs": [
    {
     "name": "stdout",
     "output_type": "stream",
     "text": [
      "400\n",
      "1 ano(s)\n",
      "1 mes(es)\n",
      "5 dia(s)\n"
     ]
    }
   ],
   "source": [
    "d=int(input())\n",
    "y=int(d/365)\n",
    "m=int((d% 365)/30)\n",
    "d=int((d%365)%30)\n",
    "print(f'{y} ano(s)')\n",
    "print(f'{m} mes(es)')\n",
    "print(f'{d} dia(s)')"
   ]
  },
  {
   "cell_type": "markdown",
   "id": "bdfc7848",
   "metadata": {},
   "source": [
    "**1035**"
   ]
  },
  {
   "cell_type": "code",
   "execution_count": 5,
   "id": "c9d35640",
   "metadata": {},
   "outputs": [
    {
     "name": "stdout",
     "output_type": "stream",
     "text": [
      "7 8 9 10\n",
      "Valores nao aceitos\n"
     ]
    }
   ],
   "source": [
    "a,b,c,d=map(int,input().split())\n",
    "\n",
    "if b>c and d>a and (c+d) > (a+b) and c>0 and d>0 and a%2 ==0:\n",
    "    print( \"Valores aceitos\")\n",
    "else:\n",
    "    print(\"Valores nao aceitos\")"
   ]
  },
  {
   "cell_type": "markdown",
   "id": "18c5489d",
   "metadata": {},
   "source": [
    "**1036**"
   ]
  },
  {
   "cell_type": "code",
   "execution_count": 6,
   "id": "2f952139",
   "metadata": {},
   "outputs": [
    {
     "name": "stdout",
     "output_type": "stream",
     "text": [
      "10.0 20.1 5.1\n",
      "R1 = -0.29788\n",
      "R2 = -1.71212\n"
     ]
    }
   ],
   "source": [
    "import math\n",
    "a,b,c= map(float,input().split())\n",
    "d=(b**2)-(4*a*c)\n",
    "if(d<0 or a==0):\n",
    "    print(\"Impossivel calcular\")\n",
    "else:\n",
    "    d=math.sqrt(d)\n",
    "    x1=(-b+d)/(2*a)\n",
    "    x2=(-b-d)/(2*a)\n",
    "    print(f'R1 = {x1:0.5f}\\nR2 = {x2:0.5f}')"
   ]
  },
  {
   "cell_type": "markdown",
   "id": "06a3b34e",
   "metadata": {},
   "source": [
    "**1037**"
   ]
  },
  {
   "cell_type": "code",
   "execution_count": 7,
   "id": "0a39ff74",
   "metadata": {},
   "outputs": [
    {
     "name": "stdout",
     "output_type": "stream",
     "text": [
      "25.01\n",
      "Intervalo (25,50]\n"
     ]
    }
   ],
   "source": [
    "x=float(input())\n",
    "if x>75 and x<=100:\n",
    "    print(\"Intervalo (75,100]\")\n",
    "elif x>50 and x<=75:\n",
    "    print(\"Intervalo (50,75]\")\n",
    "elif x>25 and x<=50:\n",
    "    print(\"Intervalo (25,50]\")\n",
    "elif x>=0 and x<=25:\n",
    "    print(\"Intervalo [0,25]\")\n",
    "else:\n",
    "    print(\"Fora de intervalo\")"
   ]
  },
  {
   "cell_type": "code",
   "execution_count": null,
   "id": "8af269b7",
   "metadata": {},
   "outputs": [],
   "source": []
  }
 ],
 "metadata": {
  "kernelspec": {
   "display_name": "Python 3 (ipykernel)",
   "language": "python",
   "name": "python3"
  },
  "language_info": {
   "codemirror_mode": {
    "name": "ipython",
    "version": 3
   },
   "file_extension": ".py",
   "mimetype": "text/x-python",
   "name": "python",
   "nbconvert_exporter": "python",
   "pygments_lexer": "ipython3",
   "version": "3.9.7"
  }
 },
 "nbformat": 4,
 "nbformat_minor": 5
}
