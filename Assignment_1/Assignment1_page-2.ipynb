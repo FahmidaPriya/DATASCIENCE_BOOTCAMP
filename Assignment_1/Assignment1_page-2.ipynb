{
 "cells": [
  {
   "cell_type": "markdown",
   "id": "3a9ad689",
   "metadata": {},
   "source": [
    "**1038**"
   ]
  },
  {
   "cell_type": "code",
   "execution_count": 3,
   "id": "03f8a959",
   "metadata": {},
   "outputs": [
    {
     "name": "stdout",
     "output_type": "stream",
     "text": [
      "3 2\n",
      "Total: R$ 10.00\n"
     ]
    }
   ],
   "source": [
    "X,Y=list(map(int,input().split()))\n",
    "if(X == 1):\n",
    "    p=(float) (4.00 * Y)\n",
    "elif(X == 2):\n",
    "    p=(float) (4.50 * Y)\n",
    "elif(X == 3):\n",
    "    p=(float) (5.00 * Y)\n",
    "elif (X == 4):\n",
    "    p=(float) (2.00 * Y);\n",
    "elif (X == 5):\n",
    "    p=(float) (1.50 * Y)\n",
    "print(\"Total: R$ %.2f\"%p)"
   ]
  },
  {
   "cell_type": "markdown",
   "id": "3b2c49ea",
   "metadata": {},
   "source": [
    "**1040**"
   ]
  },
  {
   "cell_type": "code",
   "execution_count": 4,
   "id": "ec0695a3",
   "metadata": {},
   "outputs": [
    {
     "name": "stdout",
     "output_type": "stream",
     "text": [
      "2.0 4.0 7.0 8.0\n",
      "Media: 5.2\n",
      "Aluno em exame.\n",
      "6.4\n",
      "Nota do exame: 6.4\n",
      "Aluno aprovado.\n",
      "Media final: 5.8\n"
     ]
    }
   ],
   "source": [
    "a,b,c,d = map(float,input().split())\n",
    "a= (a*2+b*3+c*4+d*1)/10\n",
    "print(\"Media: %.1f\"%a)\n",
    "if a>=7.0:\n",
    "    print(\"Aluno aprovado.\")\n",
    "elif a<5.0:\n",
    "    print(\"Aluno reprovado.\")\n",
    "elif a>=5.0 and a<7.0:\n",
    "    print(\"Aluno em exame.\")\n",
    "    x=float(input())\n",
    "    print(\"Nota do exame: %.1f\"%x)\n",
    "    x=float(a+x)/2\n",
    "    if x>=5.0:\n",
    "        print(\"Aluno aprovado.\")\n",
    "        print(\"Media final: %.1f\"%x)\n",
    "    else:\n",
    "        print(\"Aluno reprovado.\")\n",
    "        print(\"Media final: %.1f\"%x) "
   ]
  },
  {
   "cell_type": "markdown",
   "id": "bf963a37",
   "metadata": {},
   "source": [
    "**1041**"
   ]
  },
  {
   "cell_type": "code",
   "execution_count": 7,
   "id": "7eac05ac",
   "metadata": {},
   "outputs": [
    {
     "name": "stdout",
     "output_type": "stream",
     "text": [
      "4.5 -2.2\n",
      "Q4\n"
     ]
    }
   ],
   "source": [
    "X,Y=list(map(float,input().split()))\n",
    "if(X==0 and Y==0):\n",
    "    print(\"Origem\")\n",
    "elif(X==0):\n",
    "    print(\"Eixo Y\")\n",
    "elif(Y==0):\n",
    "    print(\"Eixo X\")\n",
    "elif(X>0 and Y>0):\n",
    "    print(\"Q1\")\n",
    "elif(X<0 and Y>0):\n",
    "    print(\"Q2\")\n",
    "elif(X<0 and Y<0):\n",
    "    print(\"Q3\")\n",
    "elif(X>0 and Y<0):\n",
    "    print(\"Q4\")"
   ]
  },
  {
   "cell_type": "markdown",
   "id": "fc9d1b6d",
   "metadata": {},
   "source": [
    "**1042**"
   ]
  },
  {
   "cell_type": "code",
   "execution_count": 11,
   "id": "8ba4f4de",
   "metadata": {},
   "outputs": [
    {
     "name": "stdout",
     "output_type": "stream",
     "text": [
      "7 21 -14\n",
      "-14\n",
      "7\n",
      "21\n",
      "\n",
      "7\n",
      "21\n",
      "-14\n"
     ]
    }
   ],
   "source": [
    "a,b,c = map(int,input().split())\n",
    "list = [a,b,c]\n",
    "list.sort()\n",
    "print(f'{list[0]}')\n",
    "print(f'{list[1]}')\n",
    "print(f'{list[2]}\\n')\n",
    "\n",
    "print(f'{a}')\n",
    "print(f'{b}')\n",
    "print(f'{c}')"
   ]
  },
  {
   "cell_type": "markdown",
   "id": "ec58980e",
   "metadata": {},
   "source": [
    "**1043**"
   ]
  },
  {
   "cell_type": "code",
   "execution_count": 12,
   "id": "431732ce",
   "metadata": {},
   "outputs": [
    {
     "name": "stdout",
     "output_type": "stream",
     "text": [
      "6.0 4.0 2.0\n",
      "Perimetro = 12.0\n"
     ]
    }
   ],
   "source": [
    "a,b,c=map(float,input().split())\n",
    "if (a+b)>c and (a+c)>b and (a+c)>a:\n",
    "    x=float(a+b+c)\n",
    "    print(\"Perimetro = %0.1f\"%x)\n",
    "else:\n",
    "    a=float((1/2)*(a+b)*c)\n",
    "    print(\"Area = %0.1f\"%a)"
   ]
  },
  {
   "cell_type": "markdown",
   "id": "5644a4e4",
   "metadata": {},
   "source": [
    "**1044**"
   ]
  },
  {
   "cell_type": "code",
   "execution_count": 14,
   "id": "657310d5",
   "metadata": {},
   "outputs": [
    {
     "name": "stdout",
     "output_type": "stream",
     "text": [
      "6 24\n",
      "Sao Multiplos\n"
     ]
    }
   ],
   "source": [
    "a,b=map(int, input().split())\n",
    "if (a%b==0)or(b%a==0):\n",
    "    print(\"Sao Multiplos\")\n",
    "else:\n",
    "    print(\"Nao sao Multiplos\")"
   ]
  },
  {
   "cell_type": "markdown",
   "id": "7a199f72",
   "metadata": {},
   "source": [
    "**1045**"
   ]
  },
  {
   "cell_type": "code",
   "execution_count": 2,
   "id": "1fe63fd2",
   "metadata": {},
   "outputs": [
    {
     "name": "stdout",
     "output_type": "stream",
     "text": [
      "7.0 5.0 7.0\n",
      "TRIANGULO ACUTANGULO\n",
      "TRIANGULO ISOSCELES\n"
     ]
    }
   ],
   "source": [
    "a,b,c=map(float,input().split())\n",
    "if(a < b):\n",
    "    x = a\n",
    "    a = b\n",
    "    b = x\n",
    "if(b < c):\n",
    "    x = b\n",
    "    b = c\n",
    "    c = x\n",
    "if(a < b):\n",
    "    x = a\n",
    "    a = b\n",
    "    b = x\n",
    "if(a>=(b+c)):\n",
    "    print(\"NAO FORMA TRIANGULO\")\n",
    "elif(a*a == (b*b+c*c)):\n",
    "     print(\"TRIANGULO RETANGULO\")\n",
    "elif(a * a > (b*b+ c*c)):\n",
    "    print(\"TRIANGULO OBTUSANGULO\")\n",
    "elif(a*a<(b*b + c*c)):\n",
    "    print(\"TRIANGULO ACUTANGULO\")\n",
    "if(a == b and b == c):\n",
    "        print(\"TRIANGULO EQUILATERO\")\n",
    "elif(a == b or b == c):\n",
    "        print(\"TRIANGULO ISOSCELES\")"
   ]
  },
  {
   "cell_type": "markdown",
   "id": "66d8b9f1",
   "metadata": {},
   "source": [
    "**1046**\n"
   ]
  },
  {
   "cell_type": "code",
   "execution_count": 4,
   "id": "94a1f1b3",
   "metadata": {},
   "outputs": [
    {
     "name": "stdout",
     "output_type": "stream",
     "text": [
      "16 2\n",
      "O JOGO DUROU 10 HORA(S)\n"
     ]
    }
   ],
   "source": [
    "x,y=list(map(int,input().split()))\n",
    "if(x<y):\n",
    "    t=y-x\n",
    "else:\n",
    "    t=y+24-x\n",
    "print(\"O JOGO DUROU %i HORA(S)\"%t)"
   ]
  },
  {
   "cell_type": "markdown",
   "id": "99019c80",
   "metadata": {},
   "source": [
    "**1047**"
   ]
  },
  {
   "cell_type": "code",
   "execution_count": 6,
   "id": "7644fda7",
   "metadata": {},
   "outputs": [
    {
     "name": "stdout",
     "output_type": "stream",
     "text": [
      "7 8 9 10\n",
      "O JOGO DUROU 2 HORA(S) E 2 MINUTO(S)\n"
     ]
    }
   ],
   "source": [
    "a,c,b,d=list(map(int,input().split()))\n",
    "\n",
    "df=((b*60)+d)-((a*60)+c)\n",
    "if(df<=0):\n",
    "    df+=24*60\n",
    "    \n",
    "t=df//60\n",
    "m=df%60\n",
    "print(f\"O JOGO DUROU {t} HORA(S) E {m} MINUTO(S)\")"
   ]
  },
  {
   "cell_type": "markdown",
   "id": "60fd896e",
   "metadata": {},
   "source": [
    "**1049**"
   ]
  },
  {
   "cell_type": "code",
   "execution_count": 7,
   "id": "4efa542f",
   "metadata": {},
   "outputs": [
    {
     "name": "stdout",
     "output_type": "stream",
     "text": [
      "vertebrado\n",
      "mamifero\n",
      "onivoro\n",
      "homem\n"
     ]
    }
   ],
   "source": [
    "x = input()\n",
    "y = input()\n",
    "z = input()\n",
    "\n",
    "if x == 'vertebrado' and y == 'ave' and z == 'carnivoro':\n",
    "    animal = 'aguia'\n",
    "if x == 'vertebrado' and y == 'ave' and z == 'onivoro':\n",
    "    animal = 'pomba'\n",
    "\n",
    "if x == 'vertebrado' and y == 'mamifero' and z == 'onivoro':\n",
    "    animal = 'homem'\n",
    "\n",
    "if x == 'vertebrado' and y == 'mamifero' and z == 'herbivoro':\n",
    "    animal = 'vaca'\n",
    "\n",
    "if x == 'invertebrado' and y == 'inseto' and z == 'hematofago':\n",
    "    animal = 'pulga'\n",
    "\n",
    "if x == 'invertebrado' and y == 'inseto' and z == 'herbivoro':\n",
    "    animal = 'lagarta'\n",
    "\n",
    "if x == 'invertebrado' and y == 'anelideo' and z == 'hematofago':\n",
    "    animal = 'sanguessuga'\n",
    "\n",
    "if x == 'invertebrado' and y == 'anelideo' and z == 'onivoro':\n",
    "    animal = 'minhoca'\n",
    "\n",
    "print(animal)"
   ]
  },
  {
   "cell_type": "markdown",
   "id": "3339268d",
   "metadata": {},
   "source": [
    "**1050**"
   ]
  },
  {
   "cell_type": "code",
   "execution_count": 8,
   "id": "416a21b5",
   "metadata": {},
   "outputs": [
    {
     "name": "stdout",
     "output_type": "stream",
     "text": [
      "11\n",
      "Sao Paulo\n"
     ]
    }
   ],
   "source": [
    "x=int(input())\n",
    "if x==61:\n",
    "    print(\"Brasilia\")\n",
    "elif x==71:\n",
    "    print(\"Salvador\")\n",
    "elif x==11:\n",
    "    print(\"Sao Paulo\")\n",
    "elif x==21:\n",
    "    print(\"Rio de Janeiro\")\n",
    "elif x==32:\n",
    "    print(\"Juiz de Fora\")\n",
    "elif x==19:\n",
    "    print(\"Campinas\")\n",
    "elif x==27:\n",
    "    print(\"Vitoria\")\n",
    "elif x==31:\n",
    "    print(\"Belo Horizonte\")\n",
    "else:\n",
    "    print(\"DDD nao cadastrado\")"
   ]
  },
  {
   "cell_type": "markdown",
   "id": "b18ba40e",
   "metadata": {},
   "source": [
    "**1051**"
   ]
  },
  {
   "cell_type": "code",
   "execution_count": 9,
   "id": "975a080a",
   "metadata": {},
   "outputs": [
    {
     "name": "stdout",
     "output_type": "stream",
     "text": [
      "3002.00\n",
      "R$ 80.36\n"
     ]
    }
   ],
   "source": [
    "salary =float(input())\n",
    "if(salary>0 and salary<=2000):\n",
    " print(f\"Isento\")\n",
    "elif(salary>2000 and salary<=3000):\n",
    " x=salary-2000\n",
    " result=x*0.08\n",
    " print(f\"R$ {result:0.2f}\")\n",
    "elif(salary>3000 and salary<4500):\n",
    " x=salary-3000\n",
    " result = (x * 0.18) + (1000 * 0.08)\n",
    " print(f\"R$ {result:0.2f}\")\n",
    "else:\n",
    " x=sal-4500\n",
    " result = (x*0.28)+(1500*0.18)+(1000*0.08)\n",
    " print(f\"R$ {result:0.2f}\")"
   ]
  },
  {
   "cell_type": "markdown",
   "id": "02b6fe15",
   "metadata": {},
   "source": [
    "**1052**"
   ]
  },
  {
   "cell_type": "code",
   "execution_count": 10,
   "id": "13dc9bb3",
   "metadata": {},
   "outputs": [
    {
     "name": "stdout",
     "output_type": "stream",
     "text": [
      "3\n",
      "March\n"
     ]
    }
   ],
   "source": [
    "x=int(input())\n",
    "if(x==1):\n",
    "    print(\"January\")\n",
    "elif(x==2):\n",
    "    print(\"February\")\n",
    "elif(x==3):\n",
    "    print(\"March\")\n",
    "elif(x==4):\n",
    "    print(\"April\")\n",
    "elif(x==5):\n",
    "    print(\"May\")\n",
    "elif(x==6):\n",
    "    print(\"June\")\n",
    "elif(x==7):\n",
    "    print(\"July\")\n",
    "elif(x==8):\n",
    "    print(\"August\")\n",
    "elif(x==9):\n",
    "    print(\"September\")\n",
    "elif(x==10):\n",
    "    print(\"October\")\n",
    "elif(x==11):\n",
    "    print(\"November\")\n",
    "elif(x==12):\n",
    "    print(\"December\")"
   ]
  },
  {
   "cell_type": "markdown",
   "id": "cb1208cc",
   "metadata": {},
   "source": [
    "**1059**"
   ]
  },
  {
   "cell_type": "code",
   "execution_count": 12,
   "id": "da765f19",
   "metadata": {},
   "outputs": [
    {
     "name": "stdout",
     "output_type": "stream",
     "text": [
      "2\n",
      "4\n",
      "6\n",
      "8\n",
      "10\n",
      "12\n",
      "14\n",
      "16\n",
      "18\n",
      "20\n",
      "22\n",
      "24\n",
      "26\n",
      "28\n",
      "30\n",
      "32\n",
      "34\n",
      "36\n",
      "38\n",
      "40\n",
      "42\n",
      "44\n",
      "46\n",
      "48\n",
      "50\n",
      "52\n",
      "54\n",
      "56\n",
      "58\n",
      "60\n",
      "62\n",
      "64\n",
      "66\n",
      "68\n",
      "70\n",
      "72\n",
      "74\n",
      "76\n",
      "78\n",
      "80\n",
      "82\n",
      "84\n",
      "86\n",
      "88\n",
      "90\n",
      "92\n",
      "94\n",
      "96\n",
      "98\n",
      "100\n"
     ]
    }
   ],
   "source": [
    "for i in range(1,100+1):\n",
    "    if i%2==0:\n",
    "        print(i)"
   ]
  },
  {
   "cell_type": "markdown",
   "id": "788559ad",
   "metadata": {},
   "source": [
    "**1060**"
   ]
  },
  {
   "cell_type": "code",
   "execution_count": 13,
   "id": "79295983",
   "metadata": {},
   "outputs": [
    {
     "name": "stdout",
     "output_type": "stream",
     "text": [
      "7\n",
      "-5\n",
      "6\n",
      "-3.4\n",
      "4.6\n",
      "12\n",
      "4 valores positivos\n"
     ]
    }
   ],
   "source": [
    "c=0\n",
    "for i in range(6):\n",
    "    n=float(input())\n",
    "    if(n>0):\n",
    "       c+=1\n",
    "print(f'{c} valores positivos')"
   ]
  },
  {
   "cell_type": "markdown",
   "id": "d66978df",
   "metadata": {},
   "source": [
    "**1064**"
   ]
  },
  {
   "cell_type": "code",
   "execution_count": 14,
   "id": "c2ad5356",
   "metadata": {},
   "outputs": [
    {
     "name": "stdout",
     "output_type": "stream",
     "text": [
      "7\n",
      "-5\n",
      "6\n",
      "-3.4\n",
      "4.6\n",
      "12\n",
      "4 valores positivos\n",
      "7.4\n"
     ]
    }
   ],
   "source": [
    "c=0\n",
    "s=0.0\n",
    "for i in range(1,7):\n",
    "    n = float(input())\n",
    "    if(n>0):\n",
    "        s=s+n\n",
    "        c=c+1\n",
    "avg=s/c\n",
    "print(\"%i valores positivos\"%c)\n",
    "print(\"%0.1f\"%avg)"
   ]
  },
  {
   "cell_type": "markdown",
   "id": "4a2bf5fe",
   "metadata": {},
   "source": [
    "**1065**"
   ]
  },
  {
   "cell_type": "code",
   "execution_count": 15,
   "id": "0db7cafa",
   "metadata": {},
   "outputs": [
    {
     "name": "stdout",
     "output_type": "stream",
     "text": [
      "7\n",
      "-5\n",
      "6\n",
      "-4\n",
      "12\n",
      "3 valores pares\n"
     ]
    }
   ],
   "source": [
    "c=0\n",
    "for i in range(5):\n",
    "    n = float(input())\n",
    "    if(n%2==0):\n",
    "        c=c+1\n",
    "print(\"%i valores pares\"%c)"
   ]
  },
  {
   "cell_type": "markdown",
   "id": "ee6ab6ee",
   "metadata": {},
   "source": [
    "**1067**"
   ]
  },
  {
   "cell_type": "code",
   "execution_count": 16,
   "id": "99fcf042",
   "metadata": {},
   "outputs": [
    {
     "name": "stdout",
     "output_type": "stream",
     "text": [
      "8\n",
      "1\n",
      "3\n",
      "5\n",
      "7\n"
     ]
    }
   ],
   "source": [
    "n=int(input())\n",
    "\n",
    "for j in range(1,n+1):\n",
    "    if(j%2)==1:\n",
    "        print(j)"
   ]
  },
  {
   "cell_type": "markdown",
   "id": "d0d978bd",
   "metadata": {},
   "source": [
    "**1070**"
   ]
  },
  {
   "cell_type": "code",
   "execution_count": 19,
   "id": "04534c31",
   "metadata": {},
   "outputs": [
    {
     "name": "stdout",
     "output_type": "stream",
     "text": [
      "8\n",
      "9\n",
      "11\n",
      "13\n",
      "15\n",
      "17\n",
      "19\n"
     ]
    }
   ],
   "source": [
    "x=int(input())\n",
    "i=0\n",
    "while(i<6):\n",
    "    if(x%2!=0):\n",
    "        print(x)\n",
    "        i=i+1\n",
    "    x=x+1"
   ]
  },
  {
   "cell_type": "markdown",
   "id": "50d3aff4",
   "metadata": {},
   "source": [
    "**1071**"
   ]
  },
  {
   "cell_type": "code",
   "execution_count": 20,
   "id": "96b38165",
   "metadata": {},
   "outputs": [
    {
     "name": "stdout",
     "output_type": "stream",
     "text": [
      "4\n",
      "14\n",
      "123\n",
      "10\n",
      "-25\n",
      "2 in\n",
      "2 out\n"
     ]
    }
   ],
   "source": [
    "x=int(input())\n",
    "inside=0\n",
    "outside=0\n",
    "for i in range(0,x):\n",
    "    n=int(input())\n",
    "    if(10<=n<=20):\n",
    "        inside=inside+1\n",
    "    else:\n",
    "        outside=outside+1\n",
    "print(\"%i in\"%inside)\n",
    "print(\"%i out\"%outside)"
   ]
  },
  {
   "cell_type": "markdown",
   "id": "dcd8efba",
   "metadata": {},
   "source": [
    "**1072**"
   ]
  },
  {
   "cell_type": "code",
   "execution_count": 21,
   "id": "05a4a5f0",
   "metadata": {},
   "outputs": [
    {
     "name": "stdout",
     "output_type": "stream",
     "text": [
      "6\n",
      "2^2 = 4\n",
      "4^2 = 16\n",
      "6^2 = 36\n"
     ]
    }
   ],
   "source": [
    "n= int(input())\n",
    "for i in range(1,n+1):\n",
    "    if(i%2==0):\n",
    "        print(f\"{i}^2 = {pow(i,2)}\")"
   ]
  },
  {
   "cell_type": "code",
   "execution_count": null,
   "id": "93359042",
   "metadata": {},
   "outputs": [],
   "source": []
  }
 ],
 "metadata": {
  "kernelspec": {
   "display_name": "Python 3 (ipykernel)",
   "language": "python",
   "name": "python3"
  },
  "language_info": {
   "codemirror_mode": {
    "name": "ipython",
    "version": 3
   },
   "file_extension": ".py",
   "mimetype": "text/x-python",
   "name": "python",
   "nbconvert_exporter": "python",
   "pygments_lexer": "ipython3",
   "version": "3.9.7"
  }
 },
 "nbformat": 4,
 "nbformat_minor": 5
}
